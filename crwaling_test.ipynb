{
 "cells": [
  {
   "cell_type": "code",
   "execution_count": 3,
   "metadata": {},
   "outputs": [],
   "source": [
    "from selenium import webdriver\n",
    "from bs4 import BeautifulSoup"
   ]
  },
  {
   "cell_type": "code",
   "execution_count": 3,
   "metadata": {},
   "outputs": [
    {
     "name": "stderr",
     "output_type": "stream",
     "text": [
      "C:\\Users\\Playdata\\AppData\\Local\\Temp\\ipykernel_5484\\1457368380.py:3: DeprecationWarning: executable_path has been deprecated, please pass in a Service object\n",
      "  driver = webdriver.Chrome(driver_path)\n"
     ]
    }
   ],
   "source": [
    "urls = 'http://ned.ipac.caltech.edu/cgi-bin/nph-objsearch?search_type=Near+Position+Search&in_csys=Equatorial&in_equinox=J2000.0&obj_sort=Distance+to+search+center&lon=178.27d&lat=1.025d&radius=2.0'\n",
    "driver_path = r'C:\\Users\\Playdata\\Desktop\\dev\\chromedriver_win32\\chromedriver.exe'\n",
    "driver = webdriver.Chrome(driver_path)\n",
    "driver.get(urls)\n",
    "html = driver.page_source\n",
    "soup = BeautifulSoup(html, 'html.parser')"
   ]
  },
  {
   "cell_type": "code",
   "execution_count": 17,
   "metadata": {},
   "outputs": [],
   "source": [
    "astro_list = soup.select_one('pre').get_text().strip('\\n')"
   ]
  },
  {
   "cell_type": "code",
   "execution_count": 25,
   "metadata": {},
   "outputs": [
    {
     "name": "stdout",
     "output_type": "stream",
     "text": [
      " Row          Object Name                 EquJ2000.0       Object  Velocity/Redshift    Mag./  Separ.               Number of                                 Row \n",
      " No.     (* => Essential Note)       RA               DEC  Type     km/s       z   Qual Filter arcmin Refs Notes Phot Posn Vel/z Diam Assoc Images   Spectra  No. \n",
      "1    SDSS J115304.69+010132.6       11h53m04.7s +01d01m33s *         ...       ...      22.0g   0.052    0     0    5    1     0    4     0 Retrieve Retrieve 1   \n",
      "2    WISEA J115304.66+010120.9      11h53m04.6s +01d01m21s IrS       ...       ...       ...    0.155    0     0   12    1     0    0     0 Retrieve Retrieve 2   \n",
      "3    SDSS CE J178.267899+01.023416  11h53m04.3s +01d01m24s GClstr >30000  0.435557 UUN   ...    0.160    1     0    0    1     1    0     0 Retrieve Retrieve 3   \n",
      "4    SDSS J115305.46+010129.5       11h53m05.5s +01d01m30s G         ...       ...      22.0g   0.167    2     0   15    1     0    4     0 Retrieve Retrieve 4   \n",
      "5    WISEA J115305.41+010125.9      11h53m05.4s +01d01m26s IrS       ...       ...       ...    0.168    0     0   12    1     0    0     0 Retrieve Retrieve 5   \n",
      "6    SDSS J115304.74+010119.8       11h53m04.7s +01d01m20s G         ...       ...      22.5g   0.169    0     0   15    1     0    4     0 Retrieve Retrieve 6   \n",
      "7    SDSS J115305.38+010124.0       11h53m05.4s +01d01m24s G         ...       ...      21.9g   0.176    0     0   15    1     0    4     0 Retrieve Retrieve 7   \n",
      "8    CXOGSG J115304.6+010119        11h53m04.6s +01d01m19s XrayS     ...       ...       ...    0.190    1     0    1    1     0    0     0 Retrieve Retrieve 8   \n",
      "9    WISEA J115304.89+010142.5      11h53m04.9s +01d01m42s G      >30000  0.490576 SLS  22.6g   0.205    8     0   47    5     4    8     0 Retrieve Retrieve 9   \n",
      "10   KDR2 J115303.8+010146          11h53m04.9s +01d01m42s GClstr >30000  0.490580 SUN   ...    0.207    2     0    0    2     3    0     0 Retrieve Retrieve 10  \n",
      "11   WISEA J115303.92+010134.0      11h53m03.9s +01d01m34s G      >30000  0.494111 SLS  22.2g   0.224    3     0   27    4     2    4     0 Retrieve Retrieve 11  \n",
      "12   [THW2016] J178.2700+01.0288    11h53m04.8s +01d01m44s RadioS    ...       ...       ...    0.228    1     0    0    1     0    0     0 Retrieve Retrieve 12  \n",
      "13   SDSS J115305.42+010145.4       11h53m05.4s +01d01m45s G         ...       ...      22.1g   0.302    2     0   15    1     0    4     0 Retrieve Retrieve 13  \n",
      "14   SDSS J115303.72+010120.5       11h53m03.7s +01d01m21s *         ...       ...      23.1g   0.311    0     0    5    1     0    4     0 Retrieve Retrieve 14  \n",
      "15   SDSS J115303.84+010142.1       11h53m03.8s +01d01m42s *         ...       ...      22.8g   0.313    0     0    5    1     0    4     0 Retrieve Retrieve 15  \n",
      "16   WISEA J115306.03+010138.3      11h53m06.0s +01d01m39s G         ...       ...      22.0g   0.330    0     0   28    2     0    4     0 Retrieve Retrieve 16  \n",
      "17   SDSS J115305.82+010116.6       11h53m05.8s +01d01m17s *         ...       ...      22.4g   0.340    0     0    5    1     0    4     0 Retrieve Retrieve 17  \n",
      "18   SDSS J115306.32+010136.4       11h53m06.3s +01d01m36s G         ...       ...      23.1g   0.395    0     0   15    1     0    4     0 Retrieve Retrieve 18  \n",
      "19   SDSS J115306.03+010114.1       11h53m06.0s +01d01m14s G         ...       ...      22.9g   0.406    0     0   15    1     0    4     0 Retrieve Retrieve 19  \n",
      "20   SDSS J115302.82+010134.9       11h53m02.8s +01d01m35s *         ...       ...      25.0g   0.501    0     0    5    1     0    4     0 Retrieve Retrieve 20  \n",
      "21   WISEA J115304.60+010200.2      11h53m04.6s +01d02m00s G         ...       ...      23.5g   0.509    0     0   27    2     0    4     0 Retrieve Retrieve 21  \n",
      "22   WISEA J115303.79+010157.1      11h53m03.8s +01d01m57s IrS       ...       ...       ...    0.517    0     0   12    1     0    0     0 Retrieve Retrieve 22  \n",
      "23   SDSS J115302.99+010147.9       11h53m03.0s +01d01m48s G         ...       ...      23.1g   0.542    0     0   15    1     0    4     0 Retrieve Retrieve 23  \n",
      "24   WISEA J115302.87+010146.5      11h53m02.9s +01d01m47s IrS       ...       ...       ...    0.554    0     0   12    1     0    0     0 Retrieve Retrieve 24  \n",
      "25   SDSS J115303.59+010158.5       11h53m03.6s +01d01m59s G         ...       ...      21.7g   0.564    0     0   15    1     0    4     0 Retrieve Retrieve 25  \n",
      "26   WISEA J115303.27+010104.0      11h53m03.3s +01d01m03s *         ...       ...      23.4g   0.581    0     0   17    2     0    4     0 Retrieve Retrieve 26  \n",
      "27   SDSS J115304.90+010054.7       11h53m04.9s +01d00m55s G         ...       ...      22.0g   0.588    0     0   15    1     0    4     0 Retrieve Retrieve 27  \n",
      "28   WISEA J115306.28+010102.0      11h53m06.2s +01d01m02s *         ...       ...      22.2g   0.595    0     0   23    3     0    4     0 Retrieve Retrieve 28  \n",
      "29   WISEA J115306.57+010153.7      11h53m06.5s +01d01m54s *         ...       ...      23.1g   0.595    0     0   17    2     0    4     0 Retrieve Retrieve 29  \n",
      "30   WISEA J115302.71+010111.5      11h53m02.7s +01d01m11s *         ...       ...      24.5g   0.606    0     0   17    2     0    4     0 Retrieve Retrieve 30  \n",
      "31   2CXO J115306.1+010200          11h53m06.2s +01d02m00s XrayS     ...       ...       ...    0.610    1     0    9    2     0    0     0 Retrieve Retrieve 31  \n",
      "32   GALEXASC J115303.53+010202.1   11h53m03.5s +01d02m02s UvS       ...       ...       ...    0.622    0     0    8    2     0    0     0 Retrieve Retrieve 32  \n",
      "33   SDSS J115307.37+010128.7       11h53m07.4s +01d01m29s *         ...       ...      22.0g   0.644    0     0    5    1     0    4     0 Retrieve Retrieve 33  \n",
      "34   GALEXMSC J115304.74+010050.7   11h53m04.7s +01d00m51s UvS       ...       ...       ...    0.654    0     0    4    1     0    0     0 Retrieve Retrieve 34  \n",
      "35   WISEA J115302.31+010139.0      11h53m02.2s +01d01m40s UvS       ...       ...       ...    0.671    0     0   16    2     0    0     0 Retrieve Retrieve 35  \n",
      "36   SDSS J115302.03+010136.7       11h53m02.0s +01d01m37s G         ...       ...      24.5g   0.701    0     0   15    1     0    4     0 Retrieve Retrieve 36  \n",
      "37   SDSS J115307.50+010142.0       11h53m07.5s +01d01m42s G         ...       ...      22.5g   0.706    0     0   15    1     0    4     0 Retrieve Retrieve 37  \n",
      "38   WISEA J115304.42+010047.9      11h53m04.4s +01d00m48s G      >30000  0.240000 PUN  20.7g   0.711    3     0   27    2     1    4     0 Retrieve Retrieve 38  \n",
      "39   GMBCG J178.26834+01.01327      11h53m04.4s +01d00m48s GClstr >30000  0.240000 PUN   ...    0.711    1     0    0    1     1    0     0 Retrieve Retrieve 39  \n",
      "40   WISEA J115305.92+010210.4      11h53m05.9s +01d02m10s *         ...       ...      24.4g   0.712    0     0   17    2     0    4     0 Retrieve Retrieve 40  \n",
      "41   WISEA J115307.69+010118.1      11h53m07.7s +01d01m18s G         ...       ...      23.2g   0.749    0     0   27    2     0    4     0 Retrieve Retrieve 41  \n",
      "42   WISEA J115307.78+010134.7      11h53m07.8s +01d01m35s IrS       ...       ...       ...    0.751    0     0   12    1     0    0     0 Retrieve Retrieve 42  \n",
      "43   WISEA J115301.82+010119.9      11h53m01.8s +01d01m21s *         ...       ...      23.9g   0.759    0     0   17    2     0    4     0 Retrieve Retrieve 43  \n",
      "44   GALEXMSC J115307.82+010140.5   11h53m07.8s +01d01m41s UvS       ...       ...       ...    0.775    0     0    4    1     0    0     0 Retrieve Retrieve 44  \n",
      "45   SDSS J115304.65+010042.5       11h53m04.6s +01d00m43s *         ...       ...      21.8g   0.791    0     0    5    1     0    4     0 Retrieve Retrieve 45  \n",
      "46   WISEA J115302.81+010210.0      11h53m02.8s +01d02m10s G         ...       ...      20.9g   0.825    0     0   31    3     0    4     0 Retrieve Retrieve 46  \n",
      "47   SDSS J115303.83+010041.7       11h53m03.8s +01d00m42s G         ...       ...      21.5g   0.840    0     0   15    1     0    4     0 Retrieve Retrieve 47  \n",
      "48   WISEA J115304.29+010220.2      11h53m04.3s +01d02m20s G         ...       ...      22.2g   0.840    0     0   27    2     0    4     0 Retrieve Retrieve 48  \n",
      "49   SDSS J115307.48+010059.4       11h53m07.5s +01d00m59s *         ...       ...      23.3g   0.842    0     0    5    1     0    4     0 Retrieve Retrieve 49  \n",
      "50   SDSS J115302.17+010057.9       11h53m02.2s +01d00m58s *         ...       ...      24.2g   0.846    0     0    5    1     0    4     0 Retrieve Retrieve 50  \n",
      "51   WISEA J115303.85+010039.1      11h53m03.8s +01d00m39s IrS       ...       ...       ...    0.880    0     0   12    1     0    0     0 Retrieve Retrieve 51  \n",
      "52   WISEA J115301.65+010103.6      11h53m01.7s +01d01m03s G         ...       ...      21.8g   0.899    2     0   27    2     0    4     0 Retrieve Retrieve 52  \n",
      "53   WISEA J115304.64+010036.0      11h53m04.6s +01d00m36s IrS       ...       ...       ...    0.900    0     0   12    1     0    0     0 Retrieve Retrieve 53  \n",
      "54   WISEA J115308.33+010142.6      11h53m08.3s +01d01m43s IrS       ...       ...       ...    0.908    0     0   12    1     0    0     0 Retrieve Retrieve 54  \n",
      "55   WISEA J115303.55+010221.3      11h53m03.5s +01d02m22s G         ...       ...      22.4g   0.915    2     0   27    2     0    4     0 Retrieve Retrieve 55  \n",
      "56   SDSS J115301.33+010112.3       11h53m01.3s +01d01m12s *         ...       ...      23.5g   0.915    0     0    5    1     0    4     0 Retrieve Retrieve 56  \n",
      "57   SDSS J115304.60+010034.7       11h53m04.6s +01d00m35s G         ...       ...      21.1g   0.922    0     0   15    1     0    4     0 Retrieve Retrieve 57  \n",
      "58   GALEXMSC J115304.71+010034.3   11h53m04.7s +01d00m34s UvS       ...       ...       ...    0.928    0     0    4    1     0    0     0 Retrieve Retrieve 58  \n",
      "59   GALEXMSC J115307.84+010057.8   11h53m07.8s +01d00m58s UvS       ...       ...       ...    0.932    0     0    4    1     0    0     0 Retrieve Retrieve 59  \n",
      "60   WISEA J115308.12+010156.3      11h53m08.1s +01d01m56s *         ...       ...      22.2g   0.936    0     0   17    2     0    4     0 Retrieve Retrieve 60  \n",
      "61   SDSS J115308.52+010144.8       11h53m08.5s +01d01m45s *         ...       ...      23.0g   0.963    0     0    5    1     0    4     0 Retrieve Retrieve 61  \n",
      "62   WISEA J115300.80+010135.4      11h53m00.8s +01d01m35s *         ...       ...      22.9g   0.998    0     0   17    2     0    4     0 Retrieve Retrieve 62  \n",
      "63   SDSS J115305.95+010228.1       11h53m05.9s +01d02m28s *         ...       ...      25.1g   1.012    0     0    5    1     0    4     0 Retrieve Retrieve 63  \n",
      "64   WISEA J115305.45+010028.3      11h53m05.4s +01d00m29s *         ...       ...      24.3g   1.035    0     0   17    2     0    4     0 Retrieve Retrieve 64  \n",
      "65   WISEA J115300.64+010119.6      11h53m00.6s +01d01m20s *         ...       ...      23.3g   1.055    0     0   17    2     0    4     0 Retrieve Retrieve 65  \n",
      "66   SDSS J115300.95+010156.4       11h53m00.9s +01d01m56s G         ...       ...      24.2g   1.057    0     0   15    1     0    4     0 Retrieve Retrieve 66  \n",
      "67   SDSS J115309.05+010128.4       11h53m09.0s +01d01m28s G         ...       ...      22.4g   1.065    0     0   15    1     0    4     0 Retrieve Retrieve 67  \n",
      "68   WHL J115302.6+010225           11h53m02.6s +01d02m25s GClstr >30000  0.374224 PUN   ...    1.069    8     0    0    6     9    0     0 Retrieve Retrieve 68  \n",
      "69   WISEA J115302.54+010226.0      11h53m02.6s +01d02m26s G      >30000  0.403090 SUN  20.4g   1.087   11     0   47    6     6    8     0 Retrieve Retrieve 69  \n",
      "70   WISEA J115303.56+010027.2      11h53m03.6s +01d00m27s *         ...       ...      19.0g   1.090    0     0   23    3     0    4     0 Retrieve Retrieve 70  \n",
      "71   GALEXMSC J115308.72+010158.4   11h53m08.7s +01d01m58s UvS       ...       ...       ...    1.090    0     0    4    1     0    0     0 Retrieve Retrieve 71  \n",
      "72   WISEA J115301.65+010218.9      11h53m01.6s +01d02m18s G         ...       ...      21.9g   1.128    0     0   31    3     0    4     0 Retrieve Retrieve 72  \n",
      "73   WISEA J115309.21+010151.4      11h53m09.1s +01d01m51s G         ...       ...      21.7g   1.145    0     0   27    2     0    4     0 Retrieve Retrieve 73  \n",
      "74   WISEA J115301.19+010047.6      11h53m01.2s +01d00m47s G         ...       ...      22.1g   1.148    0     0   27    2     0    4     0 Retrieve Retrieve 74  \n",
      "75   WISEA J115304.79+010021.9      11h53m04.8s +01d00m21s *         ...       ...      22.2g   1.158    0     0   17    2     0    4     0 Retrieve Retrieve 75  \n",
      "76   SDSS J115309.12+010102.2       11h53m09.1s +01d01m02s *         ...       ...      19.8g   1.175    0     0    5    1     0    4     0 Retrieve Retrieve 76  \n",
      "77   SDSS J115307.98+010037.7       11h53m08.0s +01d00m38s *         ...       ...      23.6g   1.180    0     0    5    1     0    4     0 Retrieve Retrieve 77  \n",
      "78   SDSS J115300.34+010104.3       11h53m00.3s +01d01m04s G         ...       ...      22.5g   1.193    0     0   15    1     0    4     0 Retrieve Retrieve 78  \n",
      "79   SDSS J115309.26+010156.0       11h53m09.3s +01d01m56s *         ...       ...      23.2g   1.198    0     0    5    1     0    4     0 Retrieve Retrieve 79  \n",
      "80   WISEA J115308.98+010205.1      11h53m09.0s +01d02m05s IrS       ...       ...       ...    1.198    0     0   12    1     0    0     0 Retrieve Retrieve 80  \n",
      "81   WISEA J115300.09+010110.4      11h53m00.1s +01d01m11s G      >30000  0.398788 SLS  21.7g   1.220    8     0   47    5     4    8     0 Retrieve Retrieve 81  \n",
      "82   SDSS J115259.89+010135.8       11h52m59.9s +01d01m36s *         ...       ...      23.2g   1.231    0     0    5    1     0    4     0 Retrieve Retrieve 82  \n",
      "83   SDSS J115259.83+010127.7       11h52m59.8s +01d01m28s G         ...       ...      22.5g   1.241    0     0   15    1     0    4     0 Retrieve Retrieve 83  \n",
      "84   SDSS J115304.00+010016.2       11h53m04.0s +01d00m16s G         ...       ...      22.2g   1.246    0     0   15    1     0    4     0 Retrieve Retrieve 84  \n",
      "85   GALEXMSC J115300.11+010101.7   11h53m00.1s +01d01m02s UvS       ...       ...       ...    1.262    0     0    4    1     0    0     0 Retrieve Retrieve 85  \n",
      "86   WISEA J115259.82+010143.6      11h52m59.8s +01d01m44s *         ...       ...      22.5g   1.270    0     0   17    2     0    4     0 Retrieve Retrieve 86  \n",
      "87   SDSS J115307.03+010238.8       11h53m07.0s +01d02m39s G         ...       ...      22.5g   1.275    0     0   15    1     0    4     0 Retrieve Retrieve 87  \n",
      "88   WISEA J115305.45+010013.0      11h53m05.4s +01d00m13s G         ...       ...      21.5g   1.298    0     0   27    2     0    4     0 Retrieve Retrieve 88  \n",
      "89   GALEXMSC J115310.02+010140.0   11h53m10.0s +01d01m40s UvS       ...       ...       ...    1.317    0     0    4    1     0    0     0 Retrieve Retrieve 89  \n",
      "90   SDSS J115300.31+010211.9       11h53m00.3s +01d02m12s *         ...       ...      23.9g   1.321    0     0    5    1     0    4     0 Retrieve Retrieve 90  \n",
      "91   WISEA J115308.48+010227.2      11h53m08.5s +01d02m27s IrS       ...       ...       ...    1.326    0     0   12    1     0    0     0 Retrieve Retrieve 91  \n",
      "92   SDSS J115301.33+010230.6       11h53m01.3s +01d02m31s G         ...       ...      23.5g   1.331    0     0   15    1     0    4     0 Retrieve Retrieve 92  \n",
      "93   WISEA J115259.38+010118.8      11h52m59.4s +01d01m19s G      >30000  0.398914 SLS  20.7g   1.368    7     0   48    5     3    8     0 Retrieve Retrieve 93  \n",
      "94   SDSS J115300.33+010219.3       11h53m00.3s +01d02m19s G         ...       ...      22.7g   1.387    0     0   15    1     0    4     0 Retrieve Retrieve 94  \n",
      "95   WISEA J115310.32+010121.2      11h53m10.3s +01d01m21s IrS       ...       ...       ...    1.388    0     0   12    1     0    0     0 Retrieve Retrieve 95  \n",
      "96   SDSS J115259.55+010102.3       11h52m59.5s +01d01m02s G         ...       ...      21.9g   1.389    0     0   15    1     0    4     0 Retrieve Retrieve 96  \n",
      "97   SDSS J115300.81+010030.8       11h53m00.8s +01d00m31s *         ...       ...      22.5g   1.401    0     0    5    1     0    4     0 Retrieve Retrieve 97  \n",
      "98   WISEA J115300.27+010220.6      11h53m00.3s +01d02m21s IrS       ...       ...       ...    1.410    0     0   12    1     0    0     0 Retrieve Retrieve 98  \n",
      "99   SDSS J115259.23+010149.0       11h52m59.2s +01d01m49s *         ...       ...      19.3g   1.426    0     0    9    2     0    4     0 Retrieve Retrieve 99  \n",
      "100  WISEA J115310.43+010142.1      11h53m10.4s +01d01m43s G         ...       ...      22.9g   1.428    0     0   27    2     0    4     0 Retrieve Retrieve 100 \n",
      "101  GALEXMSC J115310.47+010115.2   11h53m10.5s +01d01m15s UvS       ...       ...       ...    1.440    0     0    4    1     0    0     0 Retrieve Retrieve 101 \n",
      "102  WISEA J115307.94+010017.4      11h53m07.9s +01d00m17s G         ...       ...      20.3g   1.444    2     0   27    2     0    4     0 Retrieve Retrieve 102 \n",
      "103  WISEA J115303.21+010006.0      11h53m03.2s +01d00m07s G         ...       ...      22.0g   1.445    0     0   27    2     0    4     0 Retrieve Retrieve 103 \n",
      "104  WISEA J115259.50+010212.1      11h52m59.5s +01d02m12s *         ...       ...      24.0g   1.498    0     0   17    2     0    4     0 Retrieve Retrieve 104 \n",
      "105  SDSS J115300.96+010242.3       11h53m00.9s +01d02m42s *         ...       ...      22.6g   1.540    1     0    5    1     0    4     0 Retrieve Retrieve 105 \n",
      "106  SDSS J115259.71+010223.3       11h52m59.7s +01d02m23s *         ...       ...      25.0g   1.551    0     0    5    1     0    3     0 Retrieve Retrieve 106 \n",
      "107  SDSS J115302.69+010001.7       11h53m02.7s +01d00m02s G         ...       ...      22.0g   1.561    0     0   15    1     0    4     0 Retrieve Retrieve 107 \n",
      "108  WISEA J115306.23+005956.9      11h53m06.2s +00d59m57s IrS       ...       ...       ...    1.592    0     0   12    1     0    0     0 Retrieve Retrieve 108 \n",
      "109  WISEA J115310.61+010050.6      11h53m10.6s +01d00m51s G         ...       ...      22.6g   1.595    0     0   27    2     0    4     0 Retrieve Retrieve 109 \n",
      "110  SDSS J115258.49+010146.5       11h52m58.5s +01d01m47s G         ...       ...      23.9g   1.599    0     0   15    1     0    3     0 Retrieve Retrieve 110 \n",
      "111  WISEA J115306.18+010304.2      11h53m06.2s +01d03m04s IrS       ...       ...       ...    1.608    0     0   12    1     0    0     0 Retrieve Retrieve 111 \n",
      "112  WISEA J115304.05+005952.8      11h53m04.1s +00d59m54s G         ...       ...      22.6g   1.614    0     0   27    2     0    4     0 Retrieve Retrieve 112 \n",
      "113  WISEA J115258.34+010130.1      11h52m58.3s +01d01m30s G         ...       ...      22.6g   1.616    0     0   27    2     0    4     0 Retrieve Retrieve 113 \n",
      "114  WISEA J115311.27+010133.6      11h53m11.2s +01d01m34s *         ...       ...      22.3g   1.617    0     0   17    2     0    4     0 Retrieve Retrieve 114 \n",
      "115  SDSS J115258.64+010202.5       11h52m58.6s +01d02m03s *      >30000  0.209517 SLS  21.7g   1.632    1     0    9    3     1    4     0 Retrieve Retrieve 115 \n",
      "116  SDSS J115309.37+010240.1       11h53m09.4s +01d02m40s G         ...       ...      22.6g   1.635    0     0   15    1     0    4     0 Retrieve Retrieve 116 \n",
      "117  WISEA J115300.23+010240.3      11h53m00.2s +01d02m41s G         ...       ...      22.2g   1.637    3     0   27    2     0    4     0 Retrieve Retrieve 117 \n",
      "118  SDSS J115310.54+010042.4       11h53m10.5s +01d00m42s G         ...       ...      21.5g   1.641    0     0   19    2     0    4     0 Retrieve Retrieve 118 \n",
      "119  WISEA J115259.65+010026.8      11h52m59.7s +01d00m27s G         ...       ...      22.9g   1.650    0     0   27    2     0    4     0 Retrieve Retrieve 119 \n",
      "120  WISEA J115258.19+010149.8      11h52m58.2s +01d01m51s G         ...       ...      24.5g   1.682    0     0   27    2     0    4     0 Retrieve Retrieve 120 \n",
      "121  WISEA J115311.28+010202.1      11h53m11.2s +01d02m02s G         ...       ...      20.46   1.684    3     0   36    5     0    4     0 Retrieve Retrieve 121 \n",
      "122  WISEA J115303.41+005951.5      11h53m03.4s +00d59m50s G         ...       ...      22.2g   1.696    0     0   27    2     0    4     0 Retrieve Retrieve 122 \n",
      "123  WISEA J115302.62+010307.2      11h53m02.6s +01d03m07s G         ...       ...      20.9g   1.710    0     0   31    3     0    4     0 Retrieve Retrieve 123 \n",
      "124  WISEA J115309.91+010020.0      11h53m09.9s +01d00m20s G         ...       ...      22.8g   1.726    0     0   27    2     0    4     0 Retrieve Retrieve 124 \n",
      "125  GALEXMSC J115259.62+010021.4   11h52m59.6s +01d00m21s UvS       ...       ...       ...    1.726    0     0    4    1     0    0     0 Retrieve Retrieve 125 \n",
      "126  WISEA J115259.05+010226.5      11h52m59.0s +01d02m28s *         ...       ...      24.7g   1.734    0     0   17    2     0    4     0 Retrieve Retrieve 126 \n",
      "127  WISEA J115309.29+010249.6      11h53m09.3s +01d02m49s *         ...       ...      21.9g   1.748    0     0   17    2     0    4     0 Retrieve Retrieve 127 \n",
      "128  WISEA J115258.19+010053.4      11h52m58.2s +01d00m54s G         ...       ...      23.3g   1.752    0     0   27    2     0    4     0 Retrieve Retrieve 128 \n",
      "129  SDSS J115311.68+010150.4       11h53m11.7s +01d01m50s G         ...       ...      23.6g   1.755    0     0   15    1     0    4     0 Retrieve Retrieve 129 \n",
      "130  GALEXMSC J115300.73+010003.5   11h53m00.7s +01d00m04s UvS       ...       ...       ...    1.764    0     0    4    1     0    0     0 Retrieve Retrieve 130 \n",
      "131  WISEA J115301.48+005955.3      11h53m01.5s +00d59m56s G         ...       ...      23.3g   1.774    0     0   27    2     0    4     0 Retrieve Retrieve 131 \n",
      "132  SDSS J115305.01+005942.9       11h53m05.0s +00d59m43s G         ...       ...      22.5g   1.785    0     0   15    1     0    4     0 Retrieve Retrieve 132 \n",
      "133  WISEA J115304.13+010319.0      11h53m04.1s +01d03m19s G         ...       ...      21.7g   1.818    0     0   27    2     0    4     0 Retrieve Retrieve 133 \n",
      "134  SDSS J115300.81+005958.5       11h53m00.8s +00d59m59s G         ...       ...      23.5g   1.821    0     0   15    1     0    3     0 Retrieve Retrieve 134 \n",
      "135  GMBCG J178.29846+01.01387      11h53m11.6s +01d00m50s GClstr >30000  0.320000 PUN   ...    1.833    1     0    0    1     1    0     0 Retrieve Retrieve 135 \n",
      "136  WISEA J115311.63+010050.1      11h53m11.6s +01d00m50s G      >30000  0.399491 SLS  21.2g   1.834    7     0   47    5     5    8     0 Retrieve Retrieve 136 \n",
      "137  SDSS J115257.66+010104.3       11h52m57.6s +01d01m04s *         ...       ...      24.1g   1.834    0     0    5    1     0    4     0 Retrieve Retrieve 137 \n",
      "138  SDSS J115259.07+010238.8       11h52m59.1s +01d02m39s *         ...       ...      25.5g   1.835    0     0    5    1     0    4     0 Retrieve Retrieve 138 \n",
      "139  SDSS J115306.94+010315.5       11h53m06.9s +01d03m16s *         ...       ...      22.6g   1.839    0     0    5    1     0    4     0 Retrieve Retrieve 139 \n",
      "140  GALEXMSC J115257.52+010152.2   11h52m57.5s +01d01m52s UvS       ...       ...       ...    1.855    0     0    3    1     0    0     0 Retrieve Retrieve 140 \n",
      "141  WISEA J115304.27+005938.2      11h53m04.3s +00d59m39s G         ...       ...      19.0r   1.862    3     0   35    4     0    4     0 Retrieve Retrieve 141 \n",
      "142  WISEA J115259.93+010005.3      11h52m59.9s +01d00m05s G         ...       ...      23.2g   1.868    0     0   27    2     0    4     0 Retrieve Retrieve 142 \n",
      "143  SDSS J115310.55+010243.0       11h53m10.5s +01d02m43s G         ...       ...      22.0g   1.884    0     0   15    1     0    4     0 Retrieve Retrieve 143 \n",
      "144  SDSS J115301.52+005947.8       11h53m01.5s +00d59m48s G         ...       ...      22.7g   1.889    0     0   15    1     0    4     0 Retrieve Retrieve 144 \n",
      "145  SDSS J115259.47+010007.8       11h52m59.5s +01d00m08s G         ...       ...      23.5g   1.911    0     0   15    1     0    4     0 Retrieve Retrieve 145 \n",
      "146  WISEA J115257.37+010159.9      11h52m57.4s +01d02m00s G         ...       ...      22.2g   1.919    2     0   27    2     0    4     0 Retrieve Retrieve 146 \n",
      "147  WISEA J115310.61+010013.5      11h53m10.6s +01d00m13s *         ...       ...      20.9g   1.938    3     0   38    5     0    5     0 Retrieve Retrieve 147 \n",
      "148  WISEA J115301.50+010316.4      11h53m01.5s +01d03m16s G         ...       ...      21.5g   1.954    2     0   27    2     0    4     0 Retrieve Retrieve 148 \n",
      "149  WISEA J115257.52+010214.7      11h52m57.5s +01d02m15s *         ...       ...      17.1g   1.959    0     0   23    3     0    4     0 Retrieve Retrieve 149 \n",
      "150  SDSS J115257.34+010053.8       11h52m57.3s +01d00m54s G         ...       ...      20.7g   1.959    0     0   18    2     0    4     0 Retrieve Retrieve 150 \n",
      "151  WISEA J115305.21+005932.4      11h53m05.2s +00d59m32s G         ...       ...      19.6g   1.963    2     0   35    4     0    4     0 Retrieve Retrieve 151 \n",
      "152  SDSS J115301.92+010319.6       11h53m01.9s +01d03m20s G         ...       ...      23.1g   1.964    0     0   15    1     0    4     0 Retrieve Retrieve 152 \n",
      "153  WISEA J115256.89+010118.7      11h52m56.9s +01d01m19s G         ...       ...      21.7g   1.983    1     0   27    2     0    4     0 Retrieve Retrieve 153 \n",
      "154  SDSS J115305.06+010328.9       11h53m05.0s +01d03m29s G         ...       ...      23.8g   1.983    0     0   15    1     0    3     0 Retrieve Retrieve 154 \n",
      "155  SDSS J115302.44+010323.7       11h53m02.4s +01d03m24s G         ...       ...      22.5g   1.985    0     0   15    1     0    4     0 Retrieve Retrieve 155 \n",
      "156  WISEA J115259.15+010254.1      11h52m59.1s +01d02m53s *         ...       ...      22.5g   1.986    0     0   17    2     0    4     0 Retrieve Retrieve 156 \n",
      "157  WISEA J115306.03+010328.2      11h53m06.0s +01d03m28s *         ...       ...      20.8g   1.993    0     0   23    3     0    4     0 Retrieve Retrieve 157 \n",
      "158  SDSS J115258.27+010239.0       11h52m58.3s +01d02m39s G         ...       ...      23.1g   1.995    0     0   15    1     0    4     0 Retrieve Retrieve 158 \n",
      "159  SDSS J115304.89+005930.0       11h53m04.9s +00d59m30s G         ...       ...      21.2g   2.000    0     0   15    1     0    4     0 Retrieve Retrieve 159 \n"
     ]
    }
   ],
   "source": [
    "print(astro_list)"
   ]
  },
  {
   "cell_type": "code",
   "execution_count": 28,
   "metadata": {},
   "outputs": [
    {
     "name": "stdout",
     "output_type": "stream",
     "text": [
      "['Row', 'Object', 'Name', 'EquJ2000.0', 'Object', 'Velocity/Redshift', 'Mag./', 'Separ.', 'Number', 'of', 'Row', 'No.', '(*', '=>', 'Essential', 'Note)', 'RA', 'DEC', 'Type', 'km/s', 'z', 'Qual', 'Filter', 'arcmin', 'Refs', 'Notes', 'Phot', 'Posn', 'Vel/z', 'Diam', 'Assoc', 'Images', 'Spectra', 'No.', '1', 'SDSS', 'J115304.69+010132.6', '11h53m04.7s', '+01d01m33s', '*', '...', '...', '22.0g', '0.052', '0', '0', '5', '1', '0', '4', '0', 'Retrieve', 'Retrieve', '1', '2', 'WISEA', 'J115304.66+010120.9', '11h53m04.6s', '+01d01m21s', 'IrS', '...', '...', '...', '0.155', '0', '0', '12', '1', '0', '0', '0', 'Retrieve', 'Retrieve', '2', '3', 'SDSS', 'CE', 'J178.267899+01.023416', '11h53m04.3s', '+01d01m24s', 'GClstr', '>30000', '0.435557', 'UUN', '...', '0.160', '1', '0', '0', '1', '1', '0', '0', 'Retrieve', 'Retrieve', '3', '4', 'SDSS', 'J115305.46+010129.5', '11h53m05.5s', '+01d01m30s', 'G', '...', '...', '22.0g', '0.167', '2', '0', '15', '1', '0', '4', '0', 'Retrieve', 'Retrieve', '4', '5', 'WISEA', 'J115305.41+010125.9', '11h53m05.4s', '+01d01m26s', 'IrS', '...', '...', '...', '0.168', '0', '0', '12', '1', '0', '0', '0', 'Retrieve', 'Retrieve', '5', '6', 'SDSS', 'J115304.74+010119.8', '11h53m04.7s', '+01d01m20s', 'G', '...', '...', '22.5g', '0.169', '0', '0', '15', '1', '0', '4', '0', 'Retrieve', 'Retrieve', '6', '7', 'SDSS', 'J115305.38+010124.0', '11h53m05.4s', '+01d01m24s', 'G', '...', '...', '21.9g', '0.176', '0', '0', '15', '1', '0', '4', '0', 'Retrieve', 'Retrieve', '7', '8', 'CXOGSG', 'J115304.6+010119', '11h53m04.6s', '+01d01m19s', 'XrayS', '...', '...', '...', '0.190', '1', '0', '1', '1', '0', '0', '0', 'Retrieve', 'Retrieve', '8', '9', 'WISEA', 'J115304.89+010142.5', '11h53m04.9s', '+01d01m42s', 'G', '>30000', '0.490576', 'SLS', '22.6g', '0.205', '8', '0', '47', '5', '4', '8', '0', 'Retrieve', 'Retrieve', '9', '10', 'KDR2', 'J115303.8+010146', '11h53m04.9s', '+01d01m42s', 'GClstr', '>30000', '0.490580', 'SUN', '...', '0.207', '2', '0', '0', '2', '3', '0', '0', 'Retrieve', 'Retrieve', '10', '11', 'WISEA', 'J115303.92+010134.0', '11h53m03.9s', '+01d01m34s', 'G', '>30000', '0.494111', 'SLS', '22.2g', '0.224', '3', '0', '27', '4', '2', '4', '0', 'Retrieve', 'Retrieve', '11', '12', '[THW2016]', 'J178.2700+01.0288', '11h53m04.8s', '+01d01m44s', 'RadioS', '...', '...', '...', '0.228', '1', '0', '0', '1', '0', '0', '0', 'Retrieve', 'Retrieve', '12', '13', 'SDSS', 'J115305.42+010145.4', '11h53m05.4s', '+01d01m45s', 'G', '...', '...', '22.1g', '0.302', '2', '0', '15', '1', '0', '4', '0', 'Retrieve', 'Retrieve', '13', '14', 'SDSS', 'J115303.72+010120.5', '11h53m03.7s', '+01d01m21s', '*', '...', '...', '23.1g', '0.311', '0', '0', '5', '1', '0', '4', '0', 'Retrieve', 'Retrieve', '14', '15', 'SDSS', 'J115303.84+010142.1', '11h53m03.8s', '+01d01m42s', '*', '...', '...', '22.8g', '0.313', '0', '0', '5', '1', '0', '4', '0', 'Retrieve', 'Retrieve', '15', '16', 'WISEA', 'J115306.03+010138.3', '11h53m06.0s', '+01d01m39s', 'G', '...', '...', '22.0g', '0.330', '0', '0', '28', '2', '0', '4', '0', 'Retrieve', 'Retrieve', '16', '17', 'SDSS', 'J115305.82+010116.6', '11h53m05.8s', '+01d01m17s', '*', '...', '...', '22.4g', '0.340', '0', '0', '5', '1', '0', '4', '0', 'Retrieve', 'Retrieve', '17', '18', 'SDSS', 'J115306.32+010136.4', '11h53m06.3s', '+01d01m36s', 'G', '...', '...', '23.1g', '0.395', '0', '0', '15', '1', '0', '4', '0', 'Retrieve', 'Retrieve', '18', '19', 'SDSS', 'J115306.03+010114.1', '11h53m06.0s', '+01d01m14s', 'G', '...', '...', '22.9g', '0.406', '0', '0', '15', '1', '0', '4', '0', 'Retrieve', 'Retrieve', '19', '20', 'SDSS', 'J115302.82+010134.9', '11h53m02.8s', '+01d01m35s', '*', '...', '...', '25.0g', '0.501', '0', '0', '5', '1', '0', '4', '0', 'Retrieve', 'Retrieve', '20', '21', 'WISEA', 'J115304.60+010200.2', '11h53m04.6s', '+01d02m00s', 'G', '...', '...', '23.5g', '0.509', '0', '0', '27', '2', '0', '4', '0', 'Retrieve', 'Retrieve', '21', '22', 'WISEA', 'J115303.79+010157.1', '11h53m03.8s', '+01d01m57s', 'IrS', '...', '...', '...', '0.517', '0', '0', '12', '1', '0', '0', '0', 'Retrieve', 'Retrieve', '22', '23', 'SDSS', 'J115302.99+010147.9', '11h53m03.0s', '+01d01m48s', 'G', '...', '...', '23.1g', '0.542', '0', '0', '15', '1', '0', '4', '0', 'Retrieve', 'Retrieve', '23', '24', 'WISEA', 'J115302.87+010146.5', '11h53m02.9s', '+01d01m47s', 'IrS', '...', '...', '...', '0.554', '0', '0', '12', '1', '0', '0', '0', 'Retrieve', 'Retrieve', '24', '25', 'SDSS', 'J115303.59+010158.5', '11h53m03.6s', '+01d01m59s', 'G', '...', '...', '21.7g', '0.564', '0', '0', '15', '1', '0', '4', '0', 'Retrieve', 'Retrieve', '25', '26', 'WISEA', 'J115303.27+010104.0', '11h53m03.3s', '+01d01m03s', '*', '...', '...', '23.4g', '0.581', '0', '0', '17', '2', '0', '4', '0', 'Retrieve', 'Retrieve', '26', '27', 'SDSS', 'J115304.90+010054.7', '11h53m04.9s', '+01d00m55s', 'G', '...', '...', '22.0g', '0.588', '0', '0', '15', '1', '0', '4', '0', 'Retrieve', 'Retrieve', '27', '28', 'WISEA', 'J115306.28+010102.0', '11h53m06.2s', '+01d01m02s', '*', '...', '...', '22.2g', '0.595', '0', '0', '23', '3', '0', '4', '0', 'Retrieve', 'Retrieve', '28', '29', 'WISEA', 'J115306.57+010153.7', '11h53m06.5s', '+01d01m54s', '*', '...', '...', '23.1g', '0.595', '0', '0', '17', '2', '0', '4', '0', 'Retrieve', 'Retrieve', '29', '30', 'WISEA', 'J115302.71+010111.5', '11h53m02.7s', '+01d01m11s', '*', '...', '...', '24.5g', '0.606', '0', '0', '17', '2', '0', '4', '0', 'Retrieve', 'Retrieve', '30', '31', '2CXO', 'J115306.1+010200', '11h53m06.2s', '+01d02m00s', 'XrayS', '...', '...', '...', '0.610', '1', '0', '9', '2', '0', '0', '0', 'Retrieve', 'Retrieve', '31', '32', 'GALEXASC', 'J115303.53+010202.1', '11h53m03.5s', '+01d02m02s', 'UvS', '...', '...', '...', '0.622', '0', '0', '8', '2', '0', '0', '0', 'Retrieve', 'Retrieve', '32', '33', 'SDSS', 'J115307.37+010128.7', '11h53m07.4s', '+01d01m29s', '*', '...', '...', '22.0g', '0.644', '0', '0', '5', '1', '0', '4', '0', 'Retrieve', 'Retrieve', '33', '34', 'GALEXMSC', 'J115304.74+010050.7', '11h53m04.7s', '+01d00m51s', 'UvS', '...', '...', '...', '0.654', '0', '0', '4', '1', '0', '0', '0', 'Retrieve', 'Retrieve', '34', '35', 'WISEA', 'J115302.31+010139.0', '11h53m02.2s', '+01d01m40s', 'UvS', '...', '...', '...', '0.671', '0', '0', '16', '2', '0', '0', '0', 'Retrieve', 'Retrieve', '35', '36', 'SDSS', 'J115302.03+010136.7', '11h53m02.0s', '+01d01m37s', 'G', '...', '...', '24.5g', '0.701', '0', '0', '15', '1', '0', '4', '0', 'Retrieve', 'Retrieve', '36', '37', 'SDSS', 'J115307.50+010142.0', '11h53m07.5s', '+01d01m42s', 'G', '...', '...', '22.5g', '0.706', '0', '0', '15', '1', '0', '4', '0', 'Retrieve', 'Retrieve', '37', '38', 'WISEA', 'J115304.42+010047.9', '11h53m04.4s', '+01d00m48s', 'G', '>30000', '0.240000', 'PUN', '20.7g', '0.711', '3', '0', '27', '2', '1', '4', '0', 'Retrieve', 'Retrieve', '38', '39', 'GMBCG', 'J178.26834+01.01327', '11h53m04.4s', '+01d00m48s', 'GClstr', '>30000', '0.240000', 'PUN', '...', '0.711', '1', '0', '0', '1', '1', '0', '0', 'Retrieve', 'Retrieve', '39', '40', 'WISEA', 'J115305.92+010210.4', '11h53m05.9s', '+01d02m10s', '*', '...', '...', '24.4g', '0.712', '0', '0', '17', '2', '0', '4', '0', 'Retrieve', 'Retrieve', '40', '41', 'WISEA', 'J115307.69+010118.1', '11h53m07.7s', '+01d01m18s', 'G', '...', '...', '23.2g', '0.749', '0', '0', '27', '2', '0', '4', '0', 'Retrieve', 'Retrieve', '41', '42', 'WISEA', 'J115307.78+010134.7', '11h53m07.8s', '+01d01m35s', 'IrS', '...', '...', '...', '0.751', '0', '0', '12', '1', '0', '0', '0', 'Retrieve', 'Retrieve', '42', '43', 'WISEA', 'J115301.82+010119.9', '11h53m01.8s', '+01d01m21s', '*', '...', '...', '23.9g', '0.759', '0', '0', '17', '2', '0', '4', '0', 'Retrieve', 'Retrieve', '43', '44', 'GALEXMSC', 'J115307.82+010140.5', '11h53m07.8s', '+01d01m41s', 'UvS', '...', '...', '...', '0.775', '0', '0', '4', '1', '0', '0', '0', 'Retrieve', 'Retrieve', '44', '45', 'SDSS', 'J115304.65+010042.5', '11h53m04.6s', '+01d00m43s', '*', '...', '...', '21.8g', '0.791', '0', '0', '5', '1', '0', '4', '0', 'Retrieve', 'Retrieve', '45', '46', 'WISEA', 'J115302.81+010210.0', '11h53m02.8s', '+01d02m10s', 'G', '...', '...', '20.9g', '0.825', '0', '0', '31', '3', '0', '4', '0', 'Retrieve', 'Retrieve', '46', '47', 'SDSS', 'J115303.83+010041.7', '11h53m03.8s', '+01d00m42s', 'G', '...', '...', '21.5g', '0.840', '0', '0', '15', '1', '0', '4', '0', 'Retrieve', 'Retrieve', '47', '48', 'WISEA', 'J115304.29+010220.2', '11h53m04.3s', '+01d02m20s', 'G', '...', '...', '22.2g', '0.840', '0', '0', '27', '2', '0', '4', '0', 'Retrieve', 'Retrieve', '48', '49', 'SDSS', 'J115307.48+010059.4', '11h53m07.5s', '+01d00m59s', '*', '...', '...', '23.3g', '0.842', '0', '0', '5', '1', '0', '4', '0', 'Retrieve', 'Retrieve', '49', '50', 'SDSS', 'J115302.17+010057.9', '11h53m02.2s', '+01d00m58s', '*', '...', '...', '24.2g', '0.846', '0', '0', '5', '1', '0', '4', '0', 'Retrieve', 'Retrieve', '50', '51', 'WISEA', 'J115303.85+010039.1', '11h53m03.8s', '+01d00m39s', 'IrS', '...', '...', '...', '0.880', '0', '0', '12', '1', '0', '0', '0', 'Retrieve', 'Retrieve', '51', '52', 'WISEA', 'J115301.65+010103.6', '11h53m01.7s', '+01d01m03s', 'G', '...', '...', '21.8g', '0.899', '2', '0', '27', '2', '0', '4', '0', 'Retrieve', 'Retrieve', '52', '53', 'WISEA', 'J115304.64+010036.0', '11h53m04.6s', '+01d00m36s', 'IrS', '...', '...', '...', '0.900', '0', '0', '12', '1', '0', '0', '0', 'Retrieve', 'Retrieve', '53', '54', 'WISEA', 'J115308.33+010142.6', '11h53m08.3s', '+01d01m43s', 'IrS', '...', '...', '...', '0.908', '0', '0', '12', '1', '0', '0', '0', 'Retrieve', 'Retrieve', '54', '55', 'WISEA', 'J115303.55+010221.3', '11h53m03.5s', '+01d02m22s', 'G', '...', '...', '22.4g', '0.915', '2', '0', '27', '2', '0', '4', '0', 'Retrieve', 'Retrieve', '55', '56', 'SDSS', 'J115301.33+010112.3', '11h53m01.3s', '+01d01m12s', '*', '...', '...', '23.5g', '0.915', '0', '0', '5', '1', '0', '4', '0', 'Retrieve', 'Retrieve', '56', '57', 'SDSS', 'J115304.60+010034.7', '11h53m04.6s', '+01d00m35s', 'G', '...', '...', '21.1g', '0.922', '0', '0', '15', '1', '0', '4', '0', 'Retrieve', 'Retrieve', '57', '58', 'GALEXMSC', 'J115304.71+010034.3', '11h53m04.7s', '+01d00m34s', 'UvS', '...', '...', '...', '0.928', '0', '0', '4', '1', '0', '0', '0', 'Retrieve', 'Retrieve', '58', '59', 'GALEXMSC', 'J115307.84+010057.8', '11h53m07.8s', '+01d00m58s', 'UvS', '...', '...', '...', '0.932', '0', '0', '4', '1', '0', '0', '0', 'Retrieve', 'Retrieve', '59', '60', 'WISEA', 'J115308.12+010156.3', '11h53m08.1s', '+01d01m56s', '*', '...', '...', '22.2g', '0.936', '0', '0', '17', '2', '0', '4', '0', 'Retrieve', 'Retrieve', '60', '61', 'SDSS', 'J115308.52+010144.8', '11h53m08.5s', '+01d01m45s', '*', '...', '...', '23.0g', '0.963', '0', '0', '5', '1', '0', '4', '0', 'Retrieve', 'Retrieve', '61', '62', 'WISEA', 'J115300.80+010135.4', '11h53m00.8s', '+01d01m35s', '*', '...', '...', '22.9g', '0.998', '0', '0', '17', '2', '0', '4', '0', 'Retrieve', 'Retrieve', '62', '63', 'SDSS', 'J115305.95+010228.1', '11h53m05.9s', '+01d02m28s', '*', '...', '...', '25.1g', '1.012', '0', '0', '5', '1', '0', '4', '0', 'Retrieve', 'Retrieve', '63', '64', 'WISEA', 'J115305.45+010028.3', '11h53m05.4s', '+01d00m29s', '*', '...', '...', '24.3g', '1.035', '0', '0', '17', '2', '0', '4', '0', 'Retrieve', 'Retrieve', '64', '65', 'WISEA', 'J115300.64+010119.6', '11h53m00.6s', '+01d01m20s', '*', '...', '...', '23.3g', '1.055', '0', '0', '17', '2', '0', '4', '0', 'Retrieve', 'Retrieve', '65', '66', 'SDSS', 'J115300.95+010156.4', '11h53m00.9s', '+01d01m56s', 'G', '...', '...', '24.2g', '1.057', '0', '0', '15', '1', '0', '4', '0', 'Retrieve', 'Retrieve', '66', '67', 'SDSS', 'J115309.05+010128.4', '11h53m09.0s', '+01d01m28s', 'G', '...', '...', '22.4g', '1.065', '0', '0', '15', '1', '0', '4', '0', 'Retrieve', 'Retrieve', '67', '68', 'WHL', 'J115302.6+010225', '11h53m02.6s', '+01d02m25s', 'GClstr', '>30000', '0.374224', 'PUN', '...', '1.069', '8', '0', '0', '6', '9', '0', '0', 'Retrieve', 'Retrieve', '68', '69', 'WISEA', 'J115302.54+010226.0', '11h53m02.6s', '+01d02m26s', 'G', '>30000', '0.403090', 'SUN', '20.4g', '1.087', '11', '0', '47', '6', '6', '8', '0', 'Retrieve', 'Retrieve', '69', '70', 'WISEA', 'J115303.56+010027.2', '11h53m03.6s', '+01d00m27s', '*', '...', '...', '19.0g', '1.090', '0', '0', '23', '3', '0', '4', '0', 'Retrieve', 'Retrieve', '70', '71', 'GALEXMSC', 'J115308.72+010158.4', '11h53m08.7s', '+01d01m58s', 'UvS', '...', '...', '...', '1.090', '0', '0', '4', '1', '0', '0', '0', 'Retrieve', 'Retrieve', '71', '72', 'WISEA', 'J115301.65+010218.9', '11h53m01.6s', '+01d02m18s', 'G', '...', '...', '21.9g', '1.128', '0', '0', '31', '3', '0', '4', '0', 'Retrieve', 'Retrieve', '72', '73', 'WISEA', 'J115309.21+010151.4', '11h53m09.1s', '+01d01m51s', 'G', '...', '...', '21.7g', '1.145', '0', '0', '27', '2', '0', '4', '0', 'Retrieve', 'Retrieve', '73', '74', 'WISEA', 'J115301.19+010047.6', '11h53m01.2s', '+01d00m47s', 'G', '...', '...', '22.1g', '1.148', '0', '0', '27', '2', '0', '4', '0', 'Retrieve', 'Retrieve', '74', '75', 'WISEA', 'J115304.79+010021.9', '11h53m04.8s', '+01d00m21s', '*', '...', '...', '22.2g', '1.158', '0', '0', '17', '2', '0', '4', '0', 'Retrieve', 'Retrieve', '75', '76', 'SDSS', 'J115309.12+010102.2', '11h53m09.1s', '+01d01m02s', '*', '...', '...', '19.8g', '1.175', '0', '0', '5', '1', '0', '4', '0', 'Retrieve', 'Retrieve', '76', '77', 'SDSS', 'J115307.98+010037.7', '11h53m08.0s', '+01d00m38s', '*', '...', '...', '23.6g', '1.180', '0', '0', '5', '1', '0', '4', '0', 'Retrieve', 'Retrieve', '77', '78', 'SDSS', 'J115300.34+010104.3', '11h53m00.3s', '+01d01m04s', 'G', '...', '...', '22.5g', '1.193', '0', '0', '15', '1', '0', '4', '0', 'Retrieve', 'Retrieve', '78', '79', 'SDSS', 'J115309.26+010156.0', '11h53m09.3s', '+01d01m56s', '*', '...', '...', '23.2g', '1.198', '0', '0', '5', '1', '0', '4', '0', 'Retrieve', 'Retrieve', '79', '80', 'WISEA', 'J115308.98+010205.1', '11h53m09.0s', '+01d02m05s', 'IrS', '...', '...', '...', '1.198', '0', '0', '12', '1', '0', '0', '0', 'Retrieve', 'Retrieve', '80', '81', 'WISEA', 'J115300.09+010110.4', '11h53m00.1s', '+01d01m11s', 'G', '>30000', '0.398788', 'SLS', '21.7g', '1.220', '8', '0', '47', '5', '4', '8', '0', 'Retrieve', 'Retrieve', '81', '82', 'SDSS', 'J115259.89+010135.8', '11h52m59.9s', '+01d01m36s', '*', '...', '...', '23.2g', '1.231', '0', '0', '5', '1', '0', '4', '0', 'Retrieve', 'Retrieve', '82', '83', 'SDSS', 'J115259.83+010127.7', '11h52m59.8s', '+01d01m28s', 'G', '...', '...', '22.5g', '1.241', '0', '0', '15', '1', '0', '4', '0', 'Retrieve', 'Retrieve', '83', '84', 'SDSS', 'J115304.00+010016.2', '11h53m04.0s', '+01d00m16s', 'G', '...', '...', '22.2g', '1.246', '0', '0', '15', '1', '0', '4', '0', 'Retrieve', 'Retrieve', '84', '85', 'GALEXMSC', 'J115300.11+010101.7', '11h53m00.1s', '+01d01m02s', 'UvS', '...', '...', '...', '1.262', '0', '0', '4', '1', '0', '0', '0', 'Retrieve', 'Retrieve', '85', '86', 'WISEA', 'J115259.82+010143.6', '11h52m59.8s', '+01d01m44s', '*', '...', '...', '22.5g', '1.270', '0', '0', '17', '2', '0', '4', '0', 'Retrieve', 'Retrieve', '86', '87', 'SDSS', 'J115307.03+010238.8', '11h53m07.0s', '+01d02m39s', 'G', '...', '...', '22.5g', '1.275', '0', '0', '15', '1', '0', '4', '0', 'Retrieve', 'Retrieve', '87', '88', 'WISEA', 'J115305.45+010013.0', '11h53m05.4s', '+01d00m13s', 'G', '...', '...', '21.5g', '1.298', '0', '0', '27', '2', '0', '4', '0', 'Retrieve', 'Retrieve', '88', '89', 'GALEXMSC', 'J115310.02+010140.0', '11h53m10.0s', '+01d01m40s', 'UvS', '...', '...', '...', '1.317', '0', '0', '4', '1', '0', '0', '0', 'Retrieve', 'Retrieve', '89', '90', 'SDSS', 'J115300.31+010211.9', '11h53m00.3s', '+01d02m12s', '*', '...', '...', '23.9g', '1.321', '0', '0', '5', '1', '0', '4', '0', 'Retrieve', 'Retrieve', '90', '91', 'WISEA', 'J115308.48+010227.2', '11h53m08.5s', '+01d02m27s', 'IrS', '...', '...', '...', '1.326', '0', '0', '12', '1', '0', '0', '0', 'Retrieve', 'Retrieve', '91', '92', 'SDSS', 'J115301.33+010230.6', '11h53m01.3s', '+01d02m31s', 'G', '...', '...', '23.5g', '1.331', '0', '0', '15', '1', '0', '4', '0', 'Retrieve', 'Retrieve', '92', '93', 'WISEA', 'J115259.38+010118.8', '11h52m59.4s', '+01d01m19s', 'G', '>30000', '0.398914', 'SLS', '20.7g', '1.368', '7', '0', '48', '5', '3', '8', '0', 'Retrieve', 'Retrieve', '93', '94', 'SDSS', 'J115300.33+010219.3', '11h53m00.3s', '+01d02m19s', 'G', '...', '...', '22.7g', '1.387', '0', '0', '15', '1', '0', '4', '0', 'Retrieve', 'Retrieve', '94', '95', 'WISEA', 'J115310.32+010121.2', '11h53m10.3s', '+01d01m21s', 'IrS', '...', '...', '...', '1.388', '0', '0', '12', '1', '0', '0', '0', 'Retrieve', 'Retrieve', '95', '96', 'SDSS', 'J115259.55+010102.3', '11h52m59.5s', '+01d01m02s', 'G', '...', '...', '21.9g', '1.389', '0', '0', '15', '1', '0', '4', '0', 'Retrieve', 'Retrieve', '96', '97', 'SDSS', 'J115300.81+010030.8', '11h53m00.8s', '+01d00m31s', '*', '...', '...', '22.5g', '1.401', '0', '0', '5', '1', '0', '4', '0', 'Retrieve', 'Retrieve', '97', '98', 'WISEA', 'J115300.27+010220.6', '11h53m00.3s', '+01d02m21s', 'IrS', '...', '...', '...', '1.410', '0', '0', '12', '1', '0', '0', '0', 'Retrieve', 'Retrieve', '98', '99', 'SDSS', 'J115259.23+010149.0', '11h52m59.2s', '+01d01m49s', '*', '...', '...', '19.3g', '1.426', '0', '0', '9', '2', '0', '4', '0', 'Retrieve', 'Retrieve', '99', '100', 'WISEA', 'J115310.43+010142.1', '11h53m10.4s', '+01d01m43s', 'G', '...', '...', '22.9g', '1.428', '0', '0', '27', '2', '0', '4', '0', 'Retrieve', 'Retrieve', '100', '101', 'GALEXMSC', 'J115310.47+010115.2', '11h53m10.5s', '+01d01m15s', 'UvS', '...', '...', '...', '1.440', '0', '0', '4', '1', '0', '0', '0', 'Retrieve', 'Retrieve', '101', '102', 'WISEA', 'J115307.94+010017.4', '11h53m07.9s', '+01d00m17s', 'G', '...', '...', '20.3g', '1.444', '2', '0', '27', '2', '0', '4', '0', 'Retrieve', 'Retrieve', '102', '103', 'WISEA', 'J115303.21+010006.0', '11h53m03.2s', '+01d00m07s', 'G', '...', '...', '22.0g', '1.445', '0', '0', '27', '2', '0', '4', '0', 'Retrieve', 'Retrieve', '103', '104', 'WISEA', 'J115259.50+010212.1', '11h52m59.5s', '+01d02m12s', '*', '...', '...', '24.0g', '1.498', '0', '0', '17', '2', '0', '4', '0', 'Retrieve', 'Retrieve', '104', '105', 'SDSS', 'J115300.96+010242.3', '11h53m00.9s', '+01d02m42s', '*', '...', '...', '22.6g', '1.540', '1', '0', '5', '1', '0', '4', '0', 'Retrieve', 'Retrieve', '105', '106', 'SDSS', 'J115259.71+010223.3', '11h52m59.7s', '+01d02m23s', '*', '...', '...', '25.0g', '1.551', '0', '0', '5', '1', '0', '3', '0', 'Retrieve', 'Retrieve', '106', '107', 'SDSS', 'J115302.69+010001.7', '11h53m02.7s', '+01d00m02s', 'G', '...', '...', '22.0g', '1.561', '0', '0', '15', '1', '0', '4', '0', 'Retrieve', 'Retrieve', '107', '108', 'WISEA', 'J115306.23+005956.9', '11h53m06.2s', '+00d59m57s', 'IrS', '...', '...', '...', '1.592', '0', '0', '12', '1', '0', '0', '0', 'Retrieve', 'Retrieve', '108', '109', 'WISEA', 'J115310.61+010050.6', '11h53m10.6s', '+01d00m51s', 'G', '...', '...', '22.6g', '1.595', '0', '0', '27', '2', '0', '4', '0', 'Retrieve', 'Retrieve', '109', '110', 'SDSS', 'J115258.49+010146.5', '11h52m58.5s', '+01d01m47s', 'G', '...', '...', '23.9g', '1.599', '0', '0', '15', '1', '0', '3', '0', 'Retrieve', 'Retrieve', '110', '111', 'WISEA', 'J115306.18+010304.2', '11h53m06.2s', '+01d03m04s', 'IrS', '...', '...', '...', '1.608', '0', '0', '12', '1', '0', '0', '0', 'Retrieve', 'Retrieve', '111', '112', 'WISEA', 'J115304.05+005952.8', '11h53m04.1s', '+00d59m54s', 'G', '...', '...', '22.6g', '1.614', '0', '0', '27', '2', '0', '4', '0', 'Retrieve', 'Retrieve', '112', '113', 'WISEA', 'J115258.34+010130.1', '11h52m58.3s', '+01d01m30s', 'G', '...', '...', '22.6g', '1.616', '0', '0', '27', '2', '0', '4', '0', 'Retrieve', 'Retrieve', '113', '114', 'WISEA', 'J115311.27+010133.6', '11h53m11.2s', '+01d01m34s', '*', '...', '...', '22.3g', '1.617', '0', '0', '17', '2', '0', '4', '0', 'Retrieve', 'Retrieve', '114', '115', 'SDSS', 'J115258.64+010202.5', '11h52m58.6s', '+01d02m03s', '*', '>30000', '0.209517', 'SLS', '21.7g', '1.632', '1', '0', '9', '3', '1', '4', '0', 'Retrieve', 'Retrieve', '115', '116', 'SDSS', 'J115309.37+010240.1', '11h53m09.4s', '+01d02m40s', 'G', '...', '...', '22.6g', '1.635', '0', '0', '15', '1', '0', '4', '0', 'Retrieve', 'Retrieve', '116', '117', 'WISEA', 'J115300.23+010240.3', '11h53m00.2s', '+01d02m41s', 'G', '...', '...', '22.2g', '1.637', '3', '0', '27', '2', '0', '4', '0', 'Retrieve', 'Retrieve', '117', '118', 'SDSS', 'J115310.54+010042.4', '11h53m10.5s', '+01d00m42s', 'G', '...', '...', '21.5g', '1.641', '0', '0', '19', '2', '0', '4', '0', 'Retrieve', 'Retrieve', '118', '119', 'WISEA', 'J115259.65+010026.8', '11h52m59.7s', '+01d00m27s', 'G', '...', '...', '22.9g', '1.650', '0', '0', '27', '2', '0', '4', '0', 'Retrieve', 'Retrieve', '119', '120', 'WISEA', 'J115258.19+010149.8', '11h52m58.2s', '+01d01m51s', 'G', '...', '...', '24.5g', '1.682', '0', '0', '27', '2', '0', '4', '0', 'Retrieve', 'Retrieve', '120', '121', 'WISEA', 'J115311.28+010202.1', '11h53m11.2s', '+01d02m02s', 'G', '...', '...', '20.46', '1.684', '3', '0', '36', '5', '0', '4', '0', 'Retrieve', 'Retrieve', '121', '122', 'WISEA', 'J115303.41+005951.5', '11h53m03.4s', '+00d59m50s', 'G', '...', '...', '22.2g', '1.696', '0', '0', '27', '2', '0', '4', '0', 'Retrieve', 'Retrieve', '122', '123', 'WISEA', 'J115302.62+010307.2', '11h53m02.6s', '+01d03m07s', 'G', '...', '...', '20.9g', '1.710', '0', '0', '31', '3', '0', '4', '0', 'Retrieve', 'Retrieve', '123', '124', 'WISEA', 'J115309.91+010020.0', '11h53m09.9s', '+01d00m20s', 'G', '...', '...', '22.8g', '1.726', '0', '0', '27', '2', '0', '4', '0', 'Retrieve', 'Retrieve', '124', '125', 'GALEXMSC', 'J115259.62+010021.4', '11h52m59.6s', '+01d00m21s', 'UvS', '...', '...', '...', '1.726', '0', '0', '4', '1', '0', '0', '0', 'Retrieve', 'Retrieve', '125', '126', 'WISEA', 'J115259.05+010226.5', '11h52m59.0s', '+01d02m28s', '*', '...', '...', '24.7g', '1.734', '0', '0', '17', '2', '0', '4', '0', 'Retrieve', 'Retrieve', '126', '127', 'WISEA', 'J115309.29+010249.6', '11h53m09.3s', '+01d02m49s', '*', '...', '...', '21.9g', '1.748', '0', '0', '17', '2', '0', '4', '0', 'Retrieve', 'Retrieve', '127', '128', 'WISEA', 'J115258.19+010053.4', '11h52m58.2s', '+01d00m54s', 'G', '...', '...', '23.3g', '1.752', '0', '0', '27', '2', '0', '4', '0', 'Retrieve', 'Retrieve', '128', '129', 'SDSS', 'J115311.68+010150.4', '11h53m11.7s', '+01d01m50s', 'G', '...', '...', '23.6g', '1.755', '0', '0', '15', '1', '0', '4', '0', 'Retrieve', 'Retrieve', '129', '130', 'GALEXMSC', 'J115300.73+010003.5', '11h53m00.7s', '+01d00m04s', 'UvS', '...', '...', '...', '1.764', '0', '0', '4', '1', '0', '0', '0', 'Retrieve', 'Retrieve', '130', '131', 'WISEA', 'J115301.48+005955.3', '11h53m01.5s', '+00d59m56s', 'G', '...', '...', '23.3g', '1.774', '0', '0', '27', '2', '0', '4', '0', 'Retrieve', 'Retrieve', '131', '132', 'SDSS', 'J115305.01+005942.9', '11h53m05.0s', '+00d59m43s', 'G', '...', '...', '22.5g', '1.785', '0', '0', '15', '1', '0', '4', '0', 'Retrieve', 'Retrieve', '132', '133', 'WISEA', 'J115304.13+010319.0', '11h53m04.1s', '+01d03m19s', 'G', '...', '...', '21.7g', '1.818', '0', '0', '27', '2', '0', '4', '0', 'Retrieve', 'Retrieve', '133', '134', 'SDSS', 'J115300.81+005958.5', '11h53m00.8s', '+00d59m59s', 'G', '...', '...', '23.5g', '1.821', '0', '0', '15', '1', '0', '3', '0', 'Retrieve', 'Retrieve', '134', '135', 'GMBCG', 'J178.29846+01.01387', '11h53m11.6s', '+01d00m50s', 'GClstr', '>30000', '0.320000', 'PUN', '...', '1.833', '1', '0', '0', '1', '1', '0', '0', 'Retrieve', 'Retrieve', '135', '136', 'WISEA', 'J115311.63+010050.1', '11h53m11.6s', '+01d00m50s', 'G', '>30000', '0.399491', 'SLS', '21.2g', '1.834', '7', '0', '47', '5', '5', '8', '0', 'Retrieve', 'Retrieve', '136', '137', 'SDSS', 'J115257.66+010104.3', '11h52m57.6s', '+01d01m04s', '*', '...', '...', '24.1g', '1.834', '0', '0', '5', '1', '0', '4', '0', 'Retrieve', 'Retrieve', '137', '138', 'SDSS', 'J115259.07+010238.8', '11h52m59.1s', '+01d02m39s', '*', '...', '...', '25.5g', '1.835', '0', '0', '5', '1', '0', '4', '0', 'Retrieve', 'Retrieve', '138', '139', 'SDSS', 'J115306.94+010315.5', '11h53m06.9s', '+01d03m16s', '*', '...', '...', '22.6g', '1.839', '0', '0', '5', '1', '0', '4', '0', 'Retrieve', 'Retrieve', '139', '140', 'GALEXMSC', 'J115257.52+010152.2', '11h52m57.5s', '+01d01m52s', 'UvS', '...', '...', '...', '1.855', '0', '0', '3', '1', '0', '0', '0', 'Retrieve', 'Retrieve', '140', '141', 'WISEA', 'J115304.27+005938.2', '11h53m04.3s', '+00d59m39s', 'G', '...', '...', '19.0r', '1.862', '3', '0', '35', '4', '0', '4', '0', 'Retrieve', 'Retrieve', '141', '142', 'WISEA', 'J115259.93+010005.3', '11h52m59.9s', '+01d00m05s', 'G', '...', '...', '23.2g', '1.868', '0', '0', '27', '2', '0', '4', '0', 'Retrieve', 'Retrieve', '142', '143', 'SDSS', 'J115310.55+010243.0', '11h53m10.5s', '+01d02m43s', 'G', '...', '...', '22.0g', '1.884', '0', '0', '15', '1', '0', '4', '0', 'Retrieve', 'Retrieve', '143', '144', 'SDSS', 'J115301.52+005947.8', '11h53m01.5s', '+00d59m48s', 'G', '...', '...', '22.7g', '1.889', '0', '0', '15', '1', '0', '4', '0', 'Retrieve', 'Retrieve', '144', '145', 'SDSS', 'J115259.47+010007.8', '11h52m59.5s', '+01d00m08s', 'G', '...', '...', '23.5g', '1.911', '0', '0', '15', '1', '0', '4', '0', 'Retrieve', 'Retrieve', '145', '146', 'WISEA', 'J115257.37+010159.9', '11h52m57.4s', '+01d02m00s', 'G', '...', '...', '22.2g', '1.919', '2', '0', '27', '2', '0', '4', '0', 'Retrieve', 'Retrieve', '146', '147', 'WISEA', 'J115310.61+010013.5', '11h53m10.6s', '+01d00m13s', '*', '...', '...', '20.9g', '1.938', '3', '0', '38', '5', '0', '5', '0', 'Retrieve', 'Retrieve', '147', '148', 'WISEA', 'J115301.50+010316.4', '11h53m01.5s', '+01d03m16s', 'G', '...', '...', '21.5g', '1.954', '2', '0', '27', '2', '0', '4', '0', 'Retrieve', 'Retrieve', '148', '149', 'WISEA', 'J115257.52+010214.7', '11h52m57.5s', '+01d02m15s', '*', '...', '...', '17.1g', '1.959', '0', '0', '23', '3', '0', '4', '0', 'Retrieve', 'Retrieve', '149', '150', 'SDSS', 'J115257.34+010053.8', '11h52m57.3s', '+01d00m54s', 'G', '...', '...', '20.7g', '1.959', '0', '0', '18', '2', '0', '4', '0', 'Retrieve', 'Retrieve', '150', '151', 'WISEA', 'J115305.21+005932.4', '11h53m05.2s', '+00d59m32s', 'G', '...', '...', '19.6g', '1.963', '2', '0', '35', '4', '0', '4', '0', 'Retrieve', 'Retrieve', '151', '152', 'SDSS', 'J115301.92+010319.6', '11h53m01.9s', '+01d03m20s', 'G', '...', '...', '23.1g', '1.964', '0', '0', '15', '1', '0', '4', '0', 'Retrieve', 'Retrieve', '152', '153', 'WISEA', 'J115256.89+010118.7', '11h52m56.9s', '+01d01m19s', 'G', '...', '...', '21.7g', '1.983', '1', '0', '27', '2', '0', '4', '0', 'Retrieve', 'Retrieve', '153', '154', 'SDSS', 'J115305.06+010328.9', '11h53m05.0s', '+01d03m29s', 'G', '...', '...', '23.8g', '1.983', '0', '0', '15', '1', '0', '3', '0', 'Retrieve', 'Retrieve', '154', '155', 'SDSS', 'J115302.44+010323.7', '11h53m02.4s', '+01d03m24s', 'G', '...', '...', '22.5g', '1.985', '0', '0', '15', '1', '0', '4', '0', 'Retrieve', 'Retrieve', '155', '156', 'WISEA', 'J115259.15+010254.1', '11h52m59.1s', '+01d02m53s', '*', '...', '...', '22.5g', '1.986', '0', '0', '17', '2', '0', '4', '0', 'Retrieve', 'Retrieve', '156', '157', 'WISEA', 'J115306.03+010328.2', '11h53m06.0s', '+01d03m28s', '*', '...', '...', '20.8g', '1.993', '0', '0', '23', '3', '0', '4', '0', 'Retrieve', 'Retrieve', '157', '158', 'SDSS', 'J115258.27+010239.0', '11h52m58.3s', '+01d02m39s', 'G', '...', '...', '23.1g', '1.995', '0', '0', '15', '1', '0', '4', '0', 'Retrieve', 'Retrieve', '158', '159', 'SDSS', 'J115304.89+005930.0', '11h53m04.9s', '+00d59m30s', 'G', '...', '...', '21.2g', '2.000', '0', '0', '15', '1', '0', '4', '0', 'Retrieve', 'Retrieve', '159']\n"
     ]
    }
   ],
   "source": [
    "# print(astro_list.split())18 18 19 18 18 18 18 18"
   ]
  },
  {
   "cell_type": "code",
   "execution_count": 26,
   "metadata": {},
   "outputs": [],
   "source": [
    "f = open(r'C:\\Users\\Playdata\\Desktop\\dev\\mini_project\\astro_list.txt','w',encoding='utf=8')\n",
    "f.write(astro_list)\n",
    "f.close()"
   ]
  },
  {
   "cell_type": "code",
   "execution_count": 4,
   "metadata": {},
   "outputs": [],
   "source": [
    "import pandas as pd"
   ]
  },
  {
   "cell_type": "code",
   "execution_count": 62,
   "metadata": {},
   "outputs": [],
   "source": [
    "file = pd.read_csv(r'C:\\Users\\Playdata\\Desktop\\dev\\mini_project\\astro_csv.csv')"
   ]
  },
  {
   "cell_type": "code",
   "execution_count": 63,
   "metadata": {},
   "outputs": [],
   "source": [
    "df = pd.DataFrame(file)"
   ]
  },
  {
   "cell_type": "code",
   "execution_count": 64,
   "metadata": {},
   "outputs": [
    {
     "data": {
      "text/html": [
       "<div>\n",
       "<style scoped>\n",
       "    .dataframe tbody tr th:only-of-type {\n",
       "        vertical-align: middle;\n",
       "    }\n",
       "\n",
       "    .dataframe tbody tr th {\n",
       "        vertical-align: top;\n",
       "    }\n",
       "\n",
       "    .dataframe thead th {\n",
       "        text-align: right;\n",
       "    }\n",
       "</style>\n",
       "<table border=\"1\" class=\"dataframe\">\n",
       "  <thead>\n",
       "    <tr style=\"text-align: right;\">\n",
       "      <th></th>\n",
       "      <th>Unnamed: 0</th>\n",
       "      <th>Row          Object Name                 EquJ2000.0       Object  Velocity/Redshift    Mag./  Separ.               Number of                                 Row</th>\n",
       "    </tr>\n",
       "  </thead>\n",
       "  <tbody>\n",
       "    <tr>\n",
       "      <th>0</th>\n",
       "      <td>0</td>\n",
       "      <td>No.     (* =&gt; Essential Note)       RA       ...</td>\n",
       "    </tr>\n",
       "    <tr>\n",
       "      <th>1</th>\n",
       "      <td>1</td>\n",
       "      <td>1    SDSS J115304.69+010132.6       11h53m04.7...</td>\n",
       "    </tr>\n",
       "    <tr>\n",
       "      <th>2</th>\n",
       "      <td>2</td>\n",
       "      <td>2    WISEA J115304.66+010120.9      11h53m04.6...</td>\n",
       "    </tr>\n",
       "    <tr>\n",
       "      <th>3</th>\n",
       "      <td>3</td>\n",
       "      <td>3    SDSS CE J178.267899+01.023416  11h53m04.3...</td>\n",
       "    </tr>\n",
       "    <tr>\n",
       "      <th>4</th>\n",
       "      <td>4</td>\n",
       "      <td>4    SDSS J115305.46+010129.5       11h53m05.5...</td>\n",
       "    </tr>\n",
       "  </tbody>\n",
       "</table>\n",
       "</div>"
      ],
      "text/plain": [
       "   Unnamed: 0  \\\n",
       "0           0   \n",
       "1           1   \n",
       "2           2   \n",
       "3           3   \n",
       "4           4   \n",
       "\n",
       "   Row          Object Name                 EquJ2000.0       Object  Velocity/Redshift    Mag./  Separ.               Number of                                 Row   \n",
       "0   No.     (* => Essential Note)       RA       ...                                                                                                                  \n",
       "1  1    SDSS J115304.69+010132.6       11h53m04.7...                                                                                                                  \n",
       "2  2    WISEA J115304.66+010120.9      11h53m04.6...                                                                                                                  \n",
       "3  3    SDSS CE J178.267899+01.023416  11h53m04.3...                                                                                                                  \n",
       "4  4    SDSS J115305.46+010129.5       11h53m05.5...                                                                                                                  "
      ]
     },
     "execution_count": 64,
     "metadata": {},
     "output_type": "execute_result"
    }
   ],
   "source": [
    "df.head(5)"
   ]
  },
  {
   "cell_type": "code",
   "execution_count": 8,
   "metadata": {},
   "outputs": [
    {
     "data": {
      "text/plain": [
       "Index(['Unnamed: 0', ' Row          Object Name                 EquJ2000.0       Object  Velocity/Redshift    Mag./  Separ.               Number of                                 Row '], dtype='object')"
      ]
     },
     "execution_count": 8,
     "metadata": {},
     "output_type": "execute_result"
    }
   ],
   "source": [
    "df.columns"
   ]
  },
  {
   "cell_type": "code",
   "execution_count": 65,
   "metadata": {},
   "outputs": [],
   "source": [
    "df.rename(columns={' Row          Object Name                 EquJ2000.0       Object  Velocity/Redshift    Mag./  Separ.               Number of                                 Row ' : 'name'},inplace=True)"
   ]
  },
  {
   "cell_type": "code",
   "execution_count": 73,
   "metadata": {},
   "outputs": [
    {
     "data": {
      "text/plain": [
       "'SDSS CE J178.267899+01.023416 '"
      ]
     },
     "execution_count": 73,
     "metadata": {},
     "output_type": "execute_result"
    }
   ],
   "source": [
    "df['name'][3][5:35]\n"
   ]
  },
  {
   "cell_type": "code",
   "execution_count": 76,
   "metadata": {},
   "outputs": [
    {
     "data": {
      "text/plain": [
       "0          (* => Essential Note)      \n",
       "1      SDSS J115304.69+010132.6       \n",
       "2      WISEA J115304.66+010120.9      \n",
       "3      SDSS CE J178.267899+01.023416  \n",
       "4      SDSS J115305.46+010129.5       \n",
       "                    ...               \n",
       "155    SDSS J115302.44+010323.7       \n",
       "156    WISEA J115259.15+010254.1      \n",
       "157    WISEA J115306.03+010328.2      \n",
       "158    SDSS J115258.27+010239.0       \n",
       "159    SDSS J115304.89+005930.0       \n",
       "Name: name, Length: 160, dtype: object"
      ]
     },
     "execution_count": 76,
     "metadata": {},
     "output_type": "execute_result"
    }
   ],
   "source": [
    "df['name']"
   ]
  },
  {
   "cell_type": "code",
   "execution_count": 74,
   "metadata": {},
   "outputs": [
    {
     "name": "stderr",
     "output_type": "stream",
     "text": [
      "C:\\Users\\Playdata\\AppData\\Local\\Temp\\ipykernel_13544\\4271219533.py:2: SettingWithCopyWarning: \n",
      "A value is trying to be set on a copy of a slice from a DataFrame\n",
      "\n",
      "See the caveats in the documentation: https://pandas.pydata.org/pandas-docs/stable/user_guide/indexing.html#returning-a-view-versus-a-copy\n",
      "  df['name'][i] = df['name'][i][5:36]\n"
     ]
    }
   ],
   "source": [
    "for i in range(len(df['name'])):\n",
    "    df['name'][i] = df['name'][i][5:36]"
   ]
  },
  {
   "cell_type": "code",
   "execution_count": 13,
   "metadata": {},
   "outputs": [
    {
     "data": {
      "text/plain": [
       "'SDSS J115304.69+010132.6  '"
      ]
     },
     "execution_count": 13,
     "metadata": {},
     "output_type": "execute_result"
    }
   ],
   "source": []
  },
  {
   "cell_type": "code",
   "execution_count": 17,
   "metadata": {},
   "outputs": [],
   "source": [
    "#image_name  = df['name'][1].strip()"
   ]
  },
  {
   "cell_type": "code",
   "execution_count": 19,
   "metadata": {},
   "outputs": [
    {
     "data": {
      "text/plain": [
       "'SDSS_J115304.69+010132.6'"
      ]
     },
     "execution_count": 19,
     "metadata": {},
     "output_type": "execute_result"
    }
   ],
   "source": [
    "#image_name.replace(' ','_')"
   ]
  },
  {
   "cell_type": "code",
   "execution_count": 77,
   "metadata": {},
   "outputs": [],
   "source": [
    "i = 1\n",
    "image_names = []\n",
    "for i in range(len(df['name'])):\n",
    "    image_name = df['name'][i].strip()\n",
    "    image_name.replace(' ','_')\n",
    "    image_names.append(image_name)\n"
   ]
  },
  {
   "cell_type": "code",
   "execution_count": 32,
   "metadata": {},
   "outputs": [
    {
     "data": {
      "text/plain": [
       "'SDSS_J115304.69+010132.6'"
      ]
     },
     "execution_count": 32,
     "metadata": {},
     "output_type": "execute_result"
    }
   ],
   "source": [
    "image_names[1].replace(' ','_')"
   ]
  },
  {
   "cell_type": "code",
   "execution_count": 87,
   "metadata": {},
   "outputs": [],
   "source": [
    "for i in range(len(image_names)):\n",
    "    image_names[i] = image_names[i].replace('_','+')\n"
   ]
  },
  {
   "cell_type": "code",
   "execution_count": 88,
   "metadata": {},
   "outputs": [
    {
     "data": {
      "text/plain": [
       "['(*+=>+Essential+Note)',\n",
       " 'SDSS+J115304.69+010132.6',\n",
       " 'WISEA+J115304.66+010120.9',\n",
       " 'SDSS+CE+J178.267899+01.023416',\n",
       " 'SDSS+J115305.46+010129.5',\n",
       " 'WISEA+J115305.41+010125.9',\n",
       " 'SDSS+J115304.74+010119.8',\n",
       " 'SDSS+J115305.38+010124.0',\n",
       " 'CXOGSG+J115304.6+010119',\n",
       " 'WISEA+J115304.89+010142.5',\n",
       " 'KDR2+J115303.8+010146',\n",
       " 'WISEA+J115303.92+010134.0',\n",
       " '[THW2016]+J178.2700+01.0288',\n",
       " 'SDSS+J115305.42+010145.4',\n",
       " 'SDSS+J115303.72+010120.5',\n",
       " 'SDSS+J115303.84+010142.1',\n",
       " 'WISEA+J115306.03+010138.3',\n",
       " 'SDSS+J115305.82+010116.6',\n",
       " 'SDSS+J115306.32+010136.4',\n",
       " 'SDSS+J115306.03+010114.1',\n",
       " 'SDSS+J115302.82+010134.9',\n",
       " 'WISEA+J115304.60+010200.2',\n",
       " 'WISEA+J115303.79+010157.1',\n",
       " 'SDSS+J115302.99+010147.9',\n",
       " 'WISEA+J115302.87+010146.5',\n",
       " 'SDSS+J115303.59+010158.5',\n",
       " 'WISEA+J115303.27+010104.0',\n",
       " 'SDSS+J115304.90+010054.7',\n",
       " 'WISEA+J115306.28+010102.0',\n",
       " 'WISEA+J115306.57+010153.7',\n",
       " 'WISEA+J115302.71+010111.5',\n",
       " '2CXO+J115306.1+010200',\n",
       " 'GALEXASC+J115303.53+010202.1',\n",
       " 'SDSS+J115307.37+010128.7',\n",
       " 'GALEXMSC+J115304.74+010050.7',\n",
       " 'WISEA+J115302.31+010139.0',\n",
       " 'SDSS+J115302.03+010136.7',\n",
       " 'SDSS+J115307.50+010142.0',\n",
       " 'WISEA+J115304.42+010047.9',\n",
       " 'GMBCG+J178.26834+01.01327',\n",
       " 'WISEA+J115305.92+010210.4',\n",
       " 'WISEA+J115307.69+010118.1',\n",
       " 'WISEA+J115307.78+010134.7',\n",
       " 'WISEA+J115301.82+010119.9',\n",
       " 'GALEXMSC+J115307.82+010140.5',\n",
       " 'SDSS+J115304.65+010042.5',\n",
       " 'WISEA+J115302.81+010210.0',\n",
       " 'SDSS+J115303.83+010041.7',\n",
       " 'WISEA+J115304.29+010220.2',\n",
       " 'SDSS+J115307.48+010059.4',\n",
       " 'SDSS+J115302.17+010057.9',\n",
       " 'WISEA+J115303.85+010039.1',\n",
       " 'WISEA+J115301.65+010103.6',\n",
       " 'WISEA+J115304.64+010036.0',\n",
       " 'WISEA+J115308.33+010142.6',\n",
       " 'WISEA+J115303.55+010221.3',\n",
       " 'SDSS+J115301.33+010112.3',\n",
       " 'SDSS+J115304.60+010034.7',\n",
       " 'GALEXMSC+J115304.71+010034.3',\n",
       " 'GALEXMSC+J115307.84+010057.8',\n",
       " 'WISEA+J115308.12+010156.3',\n",
       " 'SDSS+J115308.52+010144.8',\n",
       " 'WISEA+J115300.80+010135.4',\n",
       " 'SDSS+J115305.95+010228.1',\n",
       " 'WISEA+J115305.45+010028.3',\n",
       " 'WISEA+J115300.64+010119.6',\n",
       " 'SDSS+J115300.95+010156.4',\n",
       " 'SDSS+J115309.05+010128.4',\n",
       " 'WHL+J115302.6+010225',\n",
       " 'WISEA+J115302.54+010226.0',\n",
       " 'WISEA+J115303.56+010027.2',\n",
       " 'GALEXMSC+J115308.72+010158.4',\n",
       " 'WISEA+J115301.65+010218.9',\n",
       " 'WISEA+J115309.21+010151.4',\n",
       " 'WISEA+J115301.19+010047.6',\n",
       " 'WISEA+J115304.79+010021.9',\n",
       " 'SDSS+J115309.12+010102.2',\n",
       " 'SDSS+J115307.98+010037.7',\n",
       " 'SDSS+J115300.34+010104.3',\n",
       " 'SDSS+J115309.26+010156.0',\n",
       " 'WISEA+J115308.98+010205.1',\n",
       " 'WISEA+J115300.09+010110.4',\n",
       " 'SDSS+J115259.89+010135.8',\n",
       " 'SDSS+J115259.83+010127.7',\n",
       " 'SDSS+J115304.00+010016.2',\n",
       " 'GALEXMSC+J115300.11+010101.7',\n",
       " 'WISEA+J115259.82+010143.6',\n",
       " 'SDSS+J115307.03+010238.8',\n",
       " 'WISEA+J115305.45+010013.0',\n",
       " 'GALEXMSC+J115310.02+010140.0',\n",
       " 'SDSS+J115300.31+010211.9',\n",
       " 'WISEA+J115308.48+010227.2',\n",
       " 'SDSS+J115301.33+010230.6',\n",
       " 'WISEA+J115259.38+010118.8',\n",
       " 'SDSS+J115300.33+010219.3',\n",
       " 'WISEA+J115310.32+010121.2',\n",
       " 'SDSS+J115259.55+010102.3',\n",
       " 'SDSS+J115300.81+010030.8',\n",
       " 'WISEA+J115300.27+010220.6',\n",
       " 'SDSS+J115259.23+010149.0',\n",
       " 'WISEA+J115310.43+010142.1',\n",
       " 'GALEXMSC+J115310.47+010115.2',\n",
       " 'WISEA+J115307.94+010017.4',\n",
       " 'WISEA+J115303.21+010006.0',\n",
       " 'WISEA+J115259.50+010212.1',\n",
       " 'SDSS+J115300.96+010242.3',\n",
       " 'SDSS+J115259.71+010223.3',\n",
       " 'SDSS+J115302.69+010001.7',\n",
       " 'WISEA+J115306.23+005956.9',\n",
       " 'WISEA+J115310.61+010050.6',\n",
       " 'SDSS+J115258.49+010146.5',\n",
       " 'WISEA+J115306.18+010304.2',\n",
       " 'WISEA+J115304.05+005952.8',\n",
       " 'WISEA+J115258.34+010130.1',\n",
       " 'WISEA+J115311.27+010133.6',\n",
       " 'SDSS+J115258.64+010202.5',\n",
       " 'SDSS+J115309.37+010240.1',\n",
       " 'WISEA+J115300.23+010240.3',\n",
       " 'SDSS+J115310.54+010042.4',\n",
       " 'WISEA+J115259.65+010026.8',\n",
       " 'WISEA+J115258.19+010149.8',\n",
       " 'WISEA+J115311.28+010202.1',\n",
       " 'WISEA+J115303.41+005951.5',\n",
       " 'WISEA+J115302.62+010307.2',\n",
       " 'WISEA+J115309.91+010020.0',\n",
       " 'GALEXMSC+J115259.62+010021.4',\n",
       " 'WISEA+J115259.05+010226.5',\n",
       " 'WISEA+J115309.29+010249.6',\n",
       " 'WISEA+J115258.19+010053.4',\n",
       " 'SDSS+J115311.68+010150.4',\n",
       " 'GALEXMSC+J115300.73+010003.5',\n",
       " 'WISEA+J115301.48+005955.3',\n",
       " 'SDSS+J115305.01+005942.9',\n",
       " 'WISEA+J115304.13+010319.0',\n",
       " 'SDSS+J115300.81+005958.5',\n",
       " 'GMBCG+J178.29846+01.01387',\n",
       " 'WISEA+J115311.63+010050.1',\n",
       " 'SDSS+J115257.66+010104.3',\n",
       " 'SDSS+J115259.07+010238.8',\n",
       " 'SDSS+J115306.94+010315.5',\n",
       " 'GALEXMSC+J115257.52+010152.2',\n",
       " 'WISEA+J115304.27+005938.2',\n",
       " 'WISEA+J115259.93+010005.3',\n",
       " 'SDSS+J115310.55+010243.0',\n",
       " 'SDSS+J115301.52+005947.8',\n",
       " 'SDSS+J115259.47+010007.8',\n",
       " 'WISEA+J115257.37+010159.9',\n",
       " 'WISEA+J115310.61+010013.5',\n",
       " 'WISEA+J115301.50+010316.4',\n",
       " 'WISEA+J115257.52+010214.7',\n",
       " 'SDSS+J115257.34+010053.8',\n",
       " 'WISEA+J115305.21+005932.4',\n",
       " 'SDSS+J115301.92+010319.6',\n",
       " 'WISEA+J115256.89+010118.7',\n",
       " 'SDSS+J115305.06+010328.9',\n",
       " 'SDSS+J115302.44+010323.7',\n",
       " 'WISEA+J115259.15+010254.1',\n",
       " 'WISEA+J115306.03+010328.2',\n",
       " 'SDSS+J115258.27+010239.0',\n",
       " 'SDSS+J115304.89+005930.0']"
      ]
     },
     "execution_count": 88,
     "metadata": {},
     "output_type": "execute_result"
    }
   ],
   "source": [
    "image_names"
   ]
  },
  {
   "cell_type": "code",
   "execution_count": 49,
   "metadata": {},
   "outputs": [],
   "source": [
    "image_names[12] = 'THW2016_J178.2700+01.0288'"
   ]
  },
  {
   "cell_type": "code",
   "execution_count": 81,
   "metadata": {},
   "outputs": [
    {
     "name": "stdout",
     "output_type": "stream",
     "text": [
      "http://ned.ipac.caltech.edu/dss/(*_=>_Essential_Note).fits.gz\n",
      "http://ned.ipac.caltech.edu/dss/SDSS_J115304.69+010132.6.fits.gz\n",
      "http://ned.ipac.caltech.edu/dss/WISEA_J115304.66+010120.9.fits.gz\n",
      "http://ned.ipac.caltech.edu/dss/SDSS_CE_J178.267899+01.023416.fits.gz\n",
      "http://ned.ipac.caltech.edu/dss/SDSS_J115305.46+010129.5.fits.gz\n",
      "http://ned.ipac.caltech.edu/dss/WISEA_J115305.41+010125.9.fits.gz\n",
      "http://ned.ipac.caltech.edu/dss/SDSS_J115304.74+010119.8.fits.gz\n",
      "http://ned.ipac.caltech.edu/dss/SDSS_J115305.38+010124.0.fits.gz\n",
      "http://ned.ipac.caltech.edu/dss/CXOGSG_J115304.6+010119.fits.gz\n",
      "http://ned.ipac.caltech.edu/dss/WISEA_J115304.89+010142.5.fits.gz\n",
      "http://ned.ipac.caltech.edu/dss/KDR2_J115303.8+010146.fits.gz\n",
      "http://ned.ipac.caltech.edu/dss/WISEA_J115303.92+010134.0.fits.gz\n",
      "http://ned.ipac.caltech.edu/dss/[THW2016]_J178.2700+01.0288.fits.gz\n",
      "http://ned.ipac.caltech.edu/dss/SDSS_J115305.42+010145.4.fits.gz\n",
      "http://ned.ipac.caltech.edu/dss/SDSS_J115303.72+010120.5.fits.gz\n",
      "http://ned.ipac.caltech.edu/dss/SDSS_J115303.84+010142.1.fits.gz\n",
      "http://ned.ipac.caltech.edu/dss/WISEA_J115306.03+010138.3.fits.gz\n",
      "http://ned.ipac.caltech.edu/dss/SDSS_J115305.82+010116.6.fits.gz\n",
      "http://ned.ipac.caltech.edu/dss/SDSS_J115306.32+010136.4.fits.gz\n",
      "http://ned.ipac.caltech.edu/dss/SDSS_J115306.03+010114.1.fits.gz\n",
      "http://ned.ipac.caltech.edu/dss/SDSS_J115302.82+010134.9.fits.gz\n",
      "http://ned.ipac.caltech.edu/dss/WISEA_J115304.60+010200.2.fits.gz\n",
      "http://ned.ipac.caltech.edu/dss/WISEA_J115303.79+010157.1.fits.gz\n",
      "http://ned.ipac.caltech.edu/dss/SDSS_J115302.99+010147.9.fits.gz\n",
      "http://ned.ipac.caltech.edu/dss/WISEA_J115302.87+010146.5.fits.gz\n",
      "http://ned.ipac.caltech.edu/dss/SDSS_J115303.59+010158.5.fits.gz\n",
      "http://ned.ipac.caltech.edu/dss/WISEA_J115303.27+010104.0.fits.gz\n",
      "http://ned.ipac.caltech.edu/dss/SDSS_J115304.90+010054.7.fits.gz\n",
      "http://ned.ipac.caltech.edu/dss/WISEA_J115306.28+010102.0.fits.gz\n",
      "http://ned.ipac.caltech.edu/dss/WISEA_J115306.57+010153.7.fits.gz\n",
      "http://ned.ipac.caltech.edu/dss/WISEA_J115302.71+010111.5.fits.gz\n",
      "http://ned.ipac.caltech.edu/dss/2CXO_J115306.1+010200.fits.gz\n",
      "http://ned.ipac.caltech.edu/dss/GALEXASC_J115303.53+010202.1.fits.gz\n",
      "http://ned.ipac.caltech.edu/dss/SDSS_J115307.37+010128.7.fits.gz\n",
      "http://ned.ipac.caltech.edu/dss/GALEXMSC_J115304.74+010050.7.fits.gz\n",
      "http://ned.ipac.caltech.edu/dss/WISEA_J115302.31+010139.0.fits.gz\n",
      "http://ned.ipac.caltech.edu/dss/SDSS_J115302.03+010136.7.fits.gz\n",
      "http://ned.ipac.caltech.edu/dss/SDSS_J115307.50+010142.0.fits.gz\n",
      "http://ned.ipac.caltech.edu/dss/WISEA_J115304.42+010047.9.fits.gz\n",
      "http://ned.ipac.caltech.edu/dss/GMBCG_J178.26834+01.01327.fits.gz\n",
      "http://ned.ipac.caltech.edu/dss/WISEA_J115305.92+010210.4.fits.gz\n",
      "http://ned.ipac.caltech.edu/dss/WISEA_J115307.69+010118.1.fits.gz\n",
      "http://ned.ipac.caltech.edu/dss/WISEA_J115307.78+010134.7.fits.gz\n",
      "http://ned.ipac.caltech.edu/dss/WISEA_J115301.82+010119.9.fits.gz\n",
      "http://ned.ipac.caltech.edu/dss/GALEXMSC_J115307.82+010140.5.fits.gz\n",
      "http://ned.ipac.caltech.edu/dss/SDSS_J115304.65+010042.5.fits.gz\n",
      "http://ned.ipac.caltech.edu/dss/WISEA_J115302.81+010210.0.fits.gz\n",
      "http://ned.ipac.caltech.edu/dss/SDSS_J115303.83+010041.7.fits.gz\n",
      "http://ned.ipac.caltech.edu/dss/WISEA_J115304.29+010220.2.fits.gz\n",
      "http://ned.ipac.caltech.edu/dss/SDSS_J115307.48+010059.4.fits.gz\n",
      "http://ned.ipac.caltech.edu/dss/SDSS_J115302.17+010057.9.fits.gz\n",
      "http://ned.ipac.caltech.edu/dss/WISEA_J115303.85+010039.1.fits.gz\n",
      "http://ned.ipac.caltech.edu/dss/WISEA_J115301.65+010103.6.fits.gz\n",
      "http://ned.ipac.caltech.edu/dss/WISEA_J115304.64+010036.0.fits.gz\n",
      "http://ned.ipac.caltech.edu/dss/WISEA_J115308.33+010142.6.fits.gz\n",
      "http://ned.ipac.caltech.edu/dss/WISEA_J115303.55+010221.3.fits.gz\n",
      "http://ned.ipac.caltech.edu/dss/SDSS_J115301.33+010112.3.fits.gz\n",
      "http://ned.ipac.caltech.edu/dss/SDSS_J115304.60+010034.7.fits.gz\n",
      "http://ned.ipac.caltech.edu/dss/GALEXMSC_J115304.71+010034.3.fits.gz\n",
      "http://ned.ipac.caltech.edu/dss/GALEXMSC_J115307.84+010057.8.fits.gz\n",
      "http://ned.ipac.caltech.edu/dss/WISEA_J115308.12+010156.3.fits.gz\n",
      "http://ned.ipac.caltech.edu/dss/SDSS_J115308.52+010144.8.fits.gz\n",
      "http://ned.ipac.caltech.edu/dss/WISEA_J115300.80+010135.4.fits.gz\n",
      "http://ned.ipac.caltech.edu/dss/SDSS_J115305.95+010228.1.fits.gz\n",
      "http://ned.ipac.caltech.edu/dss/WISEA_J115305.45+010028.3.fits.gz\n",
      "http://ned.ipac.caltech.edu/dss/WISEA_J115300.64+010119.6.fits.gz\n",
      "http://ned.ipac.caltech.edu/dss/SDSS_J115300.95+010156.4.fits.gz\n",
      "http://ned.ipac.caltech.edu/dss/SDSS_J115309.05+010128.4.fits.gz\n",
      "http://ned.ipac.caltech.edu/dss/WHL_J115302.6+010225.fits.gz\n",
      "http://ned.ipac.caltech.edu/dss/WISEA_J115302.54+010226.0.fits.gz\n",
      "http://ned.ipac.caltech.edu/dss/WISEA_J115303.56+010027.2.fits.gz\n",
      "http://ned.ipac.caltech.edu/dss/GALEXMSC_J115308.72+010158.4.fits.gz\n",
      "http://ned.ipac.caltech.edu/dss/WISEA_J115301.65+010218.9.fits.gz\n",
      "http://ned.ipac.caltech.edu/dss/WISEA_J115309.21+010151.4.fits.gz\n",
      "http://ned.ipac.caltech.edu/dss/WISEA_J115301.19+010047.6.fits.gz\n",
      "http://ned.ipac.caltech.edu/dss/WISEA_J115304.79+010021.9.fits.gz\n",
      "http://ned.ipac.caltech.edu/dss/SDSS_J115309.12+010102.2.fits.gz\n",
      "http://ned.ipac.caltech.edu/dss/SDSS_J115307.98+010037.7.fits.gz\n",
      "http://ned.ipac.caltech.edu/dss/SDSS_J115300.34+010104.3.fits.gz\n",
      "http://ned.ipac.caltech.edu/dss/SDSS_J115309.26+010156.0.fits.gz\n",
      "http://ned.ipac.caltech.edu/dss/WISEA_J115308.98+010205.1.fits.gz\n",
      "http://ned.ipac.caltech.edu/dss/WISEA_J115300.09+010110.4.fits.gz\n",
      "http://ned.ipac.caltech.edu/dss/SDSS_J115259.89+010135.8.fits.gz\n",
      "http://ned.ipac.caltech.edu/dss/SDSS_J115259.83+010127.7.fits.gz\n",
      "http://ned.ipac.caltech.edu/dss/SDSS_J115304.00+010016.2.fits.gz\n",
      "http://ned.ipac.caltech.edu/dss/GALEXMSC_J115300.11+010101.7.fits.gz\n",
      "http://ned.ipac.caltech.edu/dss/WISEA_J115259.82+010143.6.fits.gz\n",
      "http://ned.ipac.caltech.edu/dss/SDSS_J115307.03+010238.8.fits.gz\n",
      "http://ned.ipac.caltech.edu/dss/WISEA_J115305.45+010013.0.fits.gz\n",
      "http://ned.ipac.caltech.edu/dss/GALEXMSC_J115310.02+010140.0.fits.gz\n",
      "http://ned.ipac.caltech.edu/dss/SDSS_J115300.31+010211.9.fits.gz\n",
      "http://ned.ipac.caltech.edu/dss/WISEA_J115308.48+010227.2.fits.gz\n",
      "http://ned.ipac.caltech.edu/dss/SDSS_J115301.33+010230.6.fits.gz\n",
      "http://ned.ipac.caltech.edu/dss/WISEA_J115259.38+010118.8.fits.gz\n",
      "http://ned.ipac.caltech.edu/dss/SDSS_J115300.33+010219.3.fits.gz\n",
      "http://ned.ipac.caltech.edu/dss/WISEA_J115310.32+010121.2.fits.gz\n",
      "http://ned.ipac.caltech.edu/dss/SDSS_J115259.55+010102.3.fits.gz\n",
      "http://ned.ipac.caltech.edu/dss/SDSS_J115300.81+010030.8.fits.gz\n",
      "http://ned.ipac.caltech.edu/dss/WISEA_J115300.27+010220.6.fits.gz\n",
      "http://ned.ipac.caltech.edu/dss/SDSS_J115259.23+010149.0.fits.gz\n",
      "http://ned.ipac.caltech.edu/dss/WISEA_J115310.43+010142.1.fits.gz\n",
      "http://ned.ipac.caltech.edu/dss/GALEXMSC_J115310.47+010115.2.fits.gz\n",
      "http://ned.ipac.caltech.edu/dss/WISEA_J115307.94+010017.4.fits.gz\n",
      "http://ned.ipac.caltech.edu/dss/WISEA_J115303.21+010006.0.fits.gz\n",
      "http://ned.ipac.caltech.edu/dss/WISEA_J115259.50+010212.1.fits.gz\n",
      "http://ned.ipac.caltech.edu/dss/SDSS_J115300.96+010242.3.fits.gz\n",
      "http://ned.ipac.caltech.edu/dss/SDSS_J115259.71+010223.3.fits.gz\n",
      "http://ned.ipac.caltech.edu/dss/SDSS_J115302.69+010001.7.fits.gz\n",
      "http://ned.ipac.caltech.edu/dss/WISEA_J115306.23+005956.9.fits.gz\n",
      "http://ned.ipac.caltech.edu/dss/WISEA_J115310.61+010050.6.fits.gz\n",
      "http://ned.ipac.caltech.edu/dss/SDSS_J115258.49+010146.5.fits.gz\n",
      "http://ned.ipac.caltech.edu/dss/WISEA_J115306.18+010304.2.fits.gz\n",
      "http://ned.ipac.caltech.edu/dss/WISEA_J115304.05+005952.8.fits.gz\n",
      "http://ned.ipac.caltech.edu/dss/WISEA_J115258.34+010130.1.fits.gz\n",
      "http://ned.ipac.caltech.edu/dss/WISEA_J115311.27+010133.6.fits.gz\n",
      "http://ned.ipac.caltech.edu/dss/SDSS_J115258.64+010202.5.fits.gz\n",
      "http://ned.ipac.caltech.edu/dss/SDSS_J115309.37+010240.1.fits.gz\n",
      "http://ned.ipac.caltech.edu/dss/WISEA_J115300.23+010240.3.fits.gz\n",
      "http://ned.ipac.caltech.edu/dss/SDSS_J115310.54+010042.4.fits.gz\n",
      "http://ned.ipac.caltech.edu/dss/WISEA_J115259.65+010026.8.fits.gz\n",
      "http://ned.ipac.caltech.edu/dss/WISEA_J115258.19+010149.8.fits.gz\n",
      "http://ned.ipac.caltech.edu/dss/WISEA_J115311.28+010202.1.fits.gz\n",
      "http://ned.ipac.caltech.edu/dss/WISEA_J115303.41+005951.5.fits.gz\n",
      "http://ned.ipac.caltech.edu/dss/WISEA_J115302.62+010307.2.fits.gz\n",
      "http://ned.ipac.caltech.edu/dss/WISEA_J115309.91+010020.0.fits.gz\n",
      "http://ned.ipac.caltech.edu/dss/GALEXMSC_J115259.62+010021.4.fits.gz\n",
      "http://ned.ipac.caltech.edu/dss/WISEA_J115259.05+010226.5.fits.gz\n",
      "http://ned.ipac.caltech.edu/dss/WISEA_J115309.29+010249.6.fits.gz\n",
      "http://ned.ipac.caltech.edu/dss/WISEA_J115258.19+010053.4.fits.gz\n",
      "http://ned.ipac.caltech.edu/dss/SDSS_J115311.68+010150.4.fits.gz\n",
      "http://ned.ipac.caltech.edu/dss/GALEXMSC_J115300.73+010003.5.fits.gz\n",
      "http://ned.ipac.caltech.edu/dss/WISEA_J115301.48+005955.3.fits.gz\n",
      "http://ned.ipac.caltech.edu/dss/SDSS_J115305.01+005942.9.fits.gz\n",
      "http://ned.ipac.caltech.edu/dss/WISEA_J115304.13+010319.0.fits.gz\n",
      "http://ned.ipac.caltech.edu/dss/SDSS_J115300.81+005958.5.fits.gz\n",
      "http://ned.ipac.caltech.edu/dss/GMBCG_J178.29846+01.01387.fits.gz\n",
      "http://ned.ipac.caltech.edu/dss/WISEA_J115311.63+010050.1.fits.gz\n",
      "http://ned.ipac.caltech.edu/dss/SDSS_J115257.66+010104.3.fits.gz\n",
      "http://ned.ipac.caltech.edu/dss/SDSS_J115259.07+010238.8.fits.gz\n",
      "http://ned.ipac.caltech.edu/dss/SDSS_J115306.94+010315.5.fits.gz\n",
      "http://ned.ipac.caltech.edu/dss/GALEXMSC_J115257.52+010152.2.fits.gz\n",
      "http://ned.ipac.caltech.edu/dss/WISEA_J115304.27+005938.2.fits.gz\n",
      "http://ned.ipac.caltech.edu/dss/WISEA_J115259.93+010005.3.fits.gz\n",
      "http://ned.ipac.caltech.edu/dss/SDSS_J115310.55+010243.0.fits.gz\n",
      "http://ned.ipac.caltech.edu/dss/SDSS_J115301.52+005947.8.fits.gz\n",
      "http://ned.ipac.caltech.edu/dss/SDSS_J115259.47+010007.8.fits.gz\n",
      "http://ned.ipac.caltech.edu/dss/WISEA_J115257.37+010159.9.fits.gz\n",
      "http://ned.ipac.caltech.edu/dss/WISEA_J115310.61+010013.5.fits.gz\n",
      "http://ned.ipac.caltech.edu/dss/WISEA_J115301.50+010316.4.fits.gz\n",
      "http://ned.ipac.caltech.edu/dss/WISEA_J115257.52+010214.7.fits.gz\n",
      "http://ned.ipac.caltech.edu/dss/SDSS_J115257.34+010053.8.fits.gz\n",
      "http://ned.ipac.caltech.edu/dss/WISEA_J115305.21+005932.4.fits.gz\n",
      "http://ned.ipac.caltech.edu/dss/SDSS_J115301.92+010319.6.fits.gz\n",
      "http://ned.ipac.caltech.edu/dss/WISEA_J115256.89+010118.7.fits.gz\n",
      "http://ned.ipac.caltech.edu/dss/SDSS_J115305.06+010328.9.fits.gz\n",
      "http://ned.ipac.caltech.edu/dss/SDSS_J115302.44+010323.7.fits.gz\n",
      "http://ned.ipac.caltech.edu/dss/WISEA_J115259.15+010254.1.fits.gz\n",
      "http://ned.ipac.caltech.edu/dss/WISEA_J115306.03+010328.2.fits.gz\n",
      "http://ned.ipac.caltech.edu/dss/SDSS_J115258.27+010239.0.fits.gz\n",
      "http://ned.ipac.caltech.edu/dss/SDSS_J115304.89+005930.0.fits.gz\n"
     ]
    }
   ],
   "source": [
    "i = 1\n",
    "for i in range(len(image_names)):\n",
    "    download_urls = f'http://ned.ipac.caltech.edu/dss/{image_names[i]}.fits.gz'\n",
    "    print(download_urls)"
   ]
  },
  {
   "cell_type": "code",
   "execution_count": null,
   "metadata": {},
   "outputs": [],
   "source": [
    "\n",
    "# http://ned.ipac.caltech.edu/dss/SDSS_J115304.69+010132.6.fits.gz\n",
    "# http://ned.ipac.caltech.edu/dss/WISEA_J115304.66+010120.9.fits.gz\n",
    "# http://ned.ipac.caltech.edu/dss/THW2016_J178.2700+01.0288.fits.gz"
   ]
  },
  {
   "cell_type": "code",
   "execution_count": null,
   "metadata": {},
   "outputs": [],
   "source": [
    "# http://ned.ipac.caltech.edu/cgi-bin/imgdata?objname=WISEA+J115304.66%2B010120.9++++&hconst=73.0&omegam=0.27&omegav=0.73&corr_z=1\n",
    "# http://ned.ipac.caltech.edu/cgi-bin/imgdata?objname=SDSS+CE+J178.267899%2B01.023416&hconst=73.0&omegam=0.27&omegav=0.73&corr_z=1\n",
    "# http://ned.ipac.caltech.edu/cgi-bin/imgdata?objname=SDSS+J115305.46%2B010129.5+++++&hconst=73.0&omegam=0.27&omegav=0.73&corr_z=1\n"
   ]
  },
  {
   "cell_type": "code",
   "execution_count": 82,
   "metadata": {},
   "outputs": [
    {
     "data": {
      "text/plain": [
       "'SDSS_J115304.69+010132.6'"
      ]
     },
     "execution_count": 82,
     "metadata": {},
     "output_type": "execute_result"
    }
   ],
   "source": [
    "image_names[1]"
   ]
  },
  {
   "cell_type": "code",
   "execution_count": 89,
   "metadata": {},
   "outputs": [
    {
     "data": {
      "text/plain": [
       "['SDSS', 'J115304.69', '010132.6']"
      ]
     },
     "execution_count": 89,
     "metadata": {},
     "output_type": "execute_result"
    }
   ],
   "source": [
    "image_names[1].split('+')"
   ]
  },
  {
   "cell_type": "code",
   "execution_count": null,
   "metadata": {},
   "outputs": [],
   "source": [
    "\n"
   ]
  }
 ],
 "metadata": {
  "kernelspec": {
   "display_name": "base",
   "language": "python",
   "name": "python3"
  },
  "language_info": {
   "codemirror_mode": {
    "name": "ipython",
    "version": 3
   },
   "file_extension": ".py",
   "mimetype": "text/x-python",
   "name": "python",
   "nbconvert_exporter": "python",
   "pygments_lexer": "ipython3",
   "version": "3.10.9"
  },
  "orig_nbformat": 4
 },
 "nbformat": 4,
 "nbformat_minor": 2
}
